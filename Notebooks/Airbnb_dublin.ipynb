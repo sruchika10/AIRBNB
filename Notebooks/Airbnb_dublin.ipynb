{
  "nbformat": 4,
  "nbformat_minor": 0,
  "metadata": {
    "colab": {
      "provenance": []
    },
    "kernelspec": {
      "name": "python3",
      "display_name": "Python 3"
    },
    "language_info": {
      "name": "python"
    }
  },
  "cells": [
    {
      "cell_type": "code",
      "execution_count": null,
      "metadata": {
        "id": "z8_gTZjJrLOd"
      },
      "outputs": [],
      "source": [
        "#Import libraries/dataset\n",
        "import pandas as pd\n",
        "import numpy as np\n",
        "import seaborn as sns\n",
        "import matplotlib.pyplot as plt"
      ]
    },
    {
      "cell_type": "markdown",
      "source": [
        "Reading the file"
      ],
      "metadata": {
        "id": "MI47pjvmr2R9"
      }
    },
    {
      "cell_type": "code",
      "source": [
        "contacts_file = (\"contacts.tsv\")\n",
        "contacts = pd.read_csv(contacts_file, sep=\"\\t\")\n",
        "\n",
        "searches_file = (\"searches.tsv\")\n",
        "searches = pd.read_csv(searches_file, sep=\"\\t\")"
      ],
      "metadata": {
        "id": "xUCqTqXtrPRD"
      },
      "execution_count": null,
      "outputs": []
    },
    {
      "cell_type": "markdown",
      "source": [
        "Finding out number of nulls values in the dataset"
      ],
      "metadata": {
        "id": "1SNnDVKGrwFm"
      }
    },
    {
      "cell_type": "code",
      "source": [
        "print('Contacts')\n",
        "print(contacts.isna().sum()/len(contacts), '\\n')\n",
        "print('Searches')\n",
        "print(searches.isna().sum()/len(searches))"
      ],
      "metadata": {
        "colab": {
          "base_uri": "https://localhost:8080/"
        },
        "id": "ycp2ujyzrrsG",
        "outputId": "2d1749e5-958a-48c0-c011-329185b224fc"
      },
      "execution_count": null,
      "outputs": [
        {
          "output_type": "stream",
          "name": "stdout",
          "text": [
            "Contacts\n",
            "id_guest          0.000000\n",
            "id_host           0.000000\n",
            "id_listing        0.000000\n",
            "ts_contact_at     0.000000\n",
            "ts_reply_at       0.077208\n",
            "ts_accepted_at    0.536367\n",
            "ts_booking_at     0.722101\n",
            "ds_checkin        0.000000\n",
            "ds_checkout       0.000000\n",
            "n_guests          0.000000\n",
            "n_messages        0.000000\n",
            "dtype: float64 \n",
            "\n",
            "Searches\n",
            "ds                      0.000000\n",
            "id_user                 0.000000\n",
            "ds_checkin              0.331561\n",
            "ds_checkout             0.331561\n",
            "n_searches              0.000000\n",
            "n_nights                0.331561\n",
            "n_guests_min            0.000000\n",
            "n_guests_max            0.000000\n",
            "origin_country          0.000000\n",
            "filter_price_min        0.627221\n",
            "filter_price_max        0.627221\n",
            "filter_room_types       0.546940\n",
            "filter_neighborhoods    0.962336\n",
            "dtype: float64\n"
          ]
        }
      ]
    },
    {
      "cell_type": "markdown",
      "source": [
        "OBSERVATIONS:\n",
        "\n",
        "- The neighborhood column in searches has 96.2336% of null values.\n",
        "- This could lead to inaccurate assumptions about the demand from people.\n",
        "- looking through the column, 'City Centre' was a common choice, so this should be investigated further with more data."
      ],
      "metadata": {
        "id": "43Vff_A4r_qe"
      }
    },
    {
      "cell_type": "markdown",
      "source": [
        "## Contacts Dataset"
      ],
      "metadata": {
        "id": "yVvv4LJpsNDi"
      }
    },
    {
      "cell_type": "markdown",
      "source": [
        "Converting to Datetime"
      ],
      "metadata": {
        "id": "lBEyPXbCsYTE"
      }
    },
    {
      "cell_type": "code",
      "source": [
        "contacts['ts_contact_at'] = pd.to_datetime(contacts['ts_contact_at'])\n",
        "contacts['ts_reply_at'] = pd.to_datetime(contacts['ts_reply_at'])\n",
        "contacts['ts_accepted_at'] = pd.to_datetime(contacts['ts_accepted_at'])\n",
        "contacts['ts_booking_at'] = pd.to_datetime(contacts['ts_booking_at'])\n",
        "contacts['ds_checkin'] = pd.to_datetime(contacts['ds_checkin'])\n",
        "contacts['ds_checkout'] = pd.to_datetime(contacts['ds_checkout'])\n",
        "contacts['accepted'] = np.where(np.isnan(contacts['ts_accepted_at']), False, True)\n",
        "\n",
        "contacts['length_stay'] = contacts['ds_checkout'] - contacts['ds_checkin']\n",
        "\n"
      ],
      "metadata": {
        "id": "MEtPPdUCsMao"
      },
      "execution_count": null,
      "outputs": []
    },
    {
      "cell_type": "markdown",
      "source": [
        "Understanding the dataset"
      ],
      "metadata": {
        "id": "GUX2e72fseRY"
      }
    },
    {
      "cell_type": "code",
      "source": [
        "\n",
        "display(contacts.dtypes)\n",
        "display(contacts.describe())"
      ],
      "metadata": {
        "colab": {
          "base_uri": "https://localhost:8080/",
          "height": 543
        },
        "id": "n8bjdsqEr5Kp",
        "outputId": "0958d471-24de-4537-f410-8c4af7339980"
      },
      "execution_count": null,
      "outputs": [
        {
          "output_type": "display_data",
          "data": {
            "text/plain": [
              "id_guest                   object\n",
              "id_host                    object\n",
              "id_listing                 object\n",
              "ts_contact_at      datetime64[ns]\n",
              "ts_reply_at        datetime64[ns]\n",
              "ts_accepted_at     datetime64[ns]\n",
              "ts_booking_at      datetime64[ns]\n",
              "ds_checkin         datetime64[ns]\n",
              "ds_checkout        datetime64[ns]\n",
              "n_guests                    int64\n",
              "n_messages                  int64\n",
              "accepted                     bool\n",
              "length_stay       timedelta64[ns]\n",
              "dtype: object"
            ]
          },
          "metadata": {}
        },
        {
          "output_type": "display_data",
          "data": {
            "text/plain": [
              "          n_guests   n_messages                 length_stay\n",
              "count  7823.000000  7823.000000                        7823\n",
              "mean      2.422600     6.319954   5 days 19:25:32.864629937\n",
              "std       1.617347     6.472827  14 days 23:45:24.447710564\n",
              "min       1.000000     1.000000             1 days 00:00:00\n",
              "25%       1.000000     2.000000             2 days 00:00:00\n",
              "50%       2.000000     4.000000             3 days 00:00:00\n",
              "75%       3.000000     8.000000             5 days 00:00:00\n",
              "max      16.000000   102.000000           334 days 00:00:00"
            ],
            "text/html": [
              "\n",
              "  <div id=\"df-b32379f4-9742-4e09-a32a-6c70726309eb\" class=\"colab-df-container\">\n",
              "    <div>\n",
              "<style scoped>\n",
              "    .dataframe tbody tr th:only-of-type {\n",
              "        vertical-align: middle;\n",
              "    }\n",
              "\n",
              "    .dataframe tbody tr th {\n",
              "        vertical-align: top;\n",
              "    }\n",
              "\n",
              "    .dataframe thead th {\n",
              "        text-align: right;\n",
              "    }\n",
              "</style>\n",
              "<table border=\"1\" class=\"dataframe\">\n",
              "  <thead>\n",
              "    <tr style=\"text-align: right;\">\n",
              "      <th></th>\n",
              "      <th>n_guests</th>\n",
              "      <th>n_messages</th>\n",
              "      <th>length_stay</th>\n",
              "    </tr>\n",
              "  </thead>\n",
              "  <tbody>\n",
              "    <tr>\n",
              "      <th>count</th>\n",
              "      <td>7823.000000</td>\n",
              "      <td>7823.000000</td>\n",
              "      <td>7823</td>\n",
              "    </tr>\n",
              "    <tr>\n",
              "      <th>mean</th>\n",
              "      <td>2.422600</td>\n",
              "      <td>6.319954</td>\n",
              "      <td>5 days 19:25:32.864629937</td>\n",
              "    </tr>\n",
              "    <tr>\n",
              "      <th>std</th>\n",
              "      <td>1.617347</td>\n",
              "      <td>6.472827</td>\n",
              "      <td>14 days 23:45:24.447710564</td>\n",
              "    </tr>\n",
              "    <tr>\n",
              "      <th>min</th>\n",
              "      <td>1.000000</td>\n",
              "      <td>1.000000</td>\n",
              "      <td>1 days 00:00:00</td>\n",
              "    </tr>\n",
              "    <tr>\n",
              "      <th>25%</th>\n",
              "      <td>1.000000</td>\n",
              "      <td>2.000000</td>\n",
              "      <td>2 days 00:00:00</td>\n",
              "    </tr>\n",
              "    <tr>\n",
              "      <th>50%</th>\n",
              "      <td>2.000000</td>\n",
              "      <td>4.000000</td>\n",
              "      <td>3 days 00:00:00</td>\n",
              "    </tr>\n",
              "    <tr>\n",
              "      <th>75%</th>\n",
              "      <td>3.000000</td>\n",
              "      <td>8.000000</td>\n",
              "      <td>5 days 00:00:00</td>\n",
              "    </tr>\n",
              "    <tr>\n",
              "      <th>max</th>\n",
              "      <td>16.000000</td>\n",
              "      <td>102.000000</td>\n",
              "      <td>334 days 00:00:00</td>\n",
              "    </tr>\n",
              "  </tbody>\n",
              "</table>\n",
              "</div>\n",
              "    <div class=\"colab-df-buttons\">\n",
              "\n",
              "  <div class=\"colab-df-container\">\n",
              "    <button class=\"colab-df-convert\" onclick=\"convertToInteractive('df-b32379f4-9742-4e09-a32a-6c70726309eb')\"\n",
              "            title=\"Convert this dataframe to an interactive table.\"\n",
              "            style=\"display:none;\">\n",
              "\n",
              "  <svg xmlns=\"http://www.w3.org/2000/svg\" height=\"24px\" viewBox=\"0 -960 960 960\">\n",
              "    <path d=\"M120-120v-720h720v720H120Zm60-500h600v-160H180v160Zm220 220h160v-160H400v160Zm0 220h160v-160H400v160ZM180-400h160v-160H180v160Zm440 0h160v-160H620v160ZM180-180h160v-160H180v160Zm440 0h160v-160H620v160Z\"/>\n",
              "  </svg>\n",
              "    </button>\n",
              "\n",
              "  <style>\n",
              "    .colab-df-container {\n",
              "      display:flex;\n",
              "      gap: 12px;\n",
              "    }\n",
              "\n",
              "    .colab-df-convert {\n",
              "      background-color: #E8F0FE;\n",
              "      border: none;\n",
              "      border-radius: 50%;\n",
              "      cursor: pointer;\n",
              "      display: none;\n",
              "      fill: #1967D2;\n",
              "      height: 32px;\n",
              "      padding: 0 0 0 0;\n",
              "      width: 32px;\n",
              "    }\n",
              "\n",
              "    .colab-df-convert:hover {\n",
              "      background-color: #E2EBFA;\n",
              "      box-shadow: 0px 1px 2px rgba(60, 64, 67, 0.3), 0px 1px 3px 1px rgba(60, 64, 67, 0.15);\n",
              "      fill: #174EA6;\n",
              "    }\n",
              "\n",
              "    .colab-df-buttons div {\n",
              "      margin-bottom: 4px;\n",
              "    }\n",
              "\n",
              "    [theme=dark] .colab-df-convert {\n",
              "      background-color: #3B4455;\n",
              "      fill: #D2E3FC;\n",
              "    }\n",
              "\n",
              "    [theme=dark] .colab-df-convert:hover {\n",
              "      background-color: #434B5C;\n",
              "      box-shadow: 0px 1px 3px 1px rgba(0, 0, 0, 0.15);\n",
              "      filter: drop-shadow(0px 1px 2px rgba(0, 0, 0, 0.3));\n",
              "      fill: #FFFFFF;\n",
              "    }\n",
              "  </style>\n",
              "\n",
              "    <script>\n",
              "      const buttonEl =\n",
              "        document.querySelector('#df-b32379f4-9742-4e09-a32a-6c70726309eb button.colab-df-convert');\n",
              "      buttonEl.style.display =\n",
              "        google.colab.kernel.accessAllowed ? 'block' : 'none';\n",
              "\n",
              "      async function convertToInteractive(key) {\n",
              "        const element = document.querySelector('#df-b32379f4-9742-4e09-a32a-6c70726309eb');\n",
              "        const dataTable =\n",
              "          await google.colab.kernel.invokeFunction('convertToInteractive',\n",
              "                                                    [key], {});\n",
              "        if (!dataTable) return;\n",
              "\n",
              "        const docLinkHtml = 'Like what you see? Visit the ' +\n",
              "          '<a target=\"_blank\" href=https://colab.research.google.com/notebooks/data_table.ipynb>data table notebook</a>'\n",
              "          + ' to learn more about interactive tables.';\n",
              "        element.innerHTML = '';\n",
              "        dataTable['output_type'] = 'display_data';\n",
              "        await google.colab.output.renderOutput(dataTable, element);\n",
              "        const docLink = document.createElement('div');\n",
              "        docLink.innerHTML = docLinkHtml;\n",
              "        element.appendChild(docLink);\n",
              "      }\n",
              "    </script>\n",
              "  </div>\n",
              "\n",
              "\n",
              "<div id=\"df-b6cbf084-9de6-48c6-b238-991817639031\">\n",
              "  <button class=\"colab-df-quickchart\" onclick=\"quickchart('df-b6cbf084-9de6-48c6-b238-991817639031')\"\n",
              "            title=\"Suggest charts\"\n",
              "            style=\"display:none;\">\n",
              "\n",
              "<svg xmlns=\"http://www.w3.org/2000/svg\" height=\"24px\"viewBox=\"0 0 24 24\"\n",
              "     width=\"24px\">\n",
              "    <g>\n",
              "        <path d=\"M19 3H5c-1.1 0-2 .9-2 2v14c0 1.1.9 2 2 2h14c1.1 0 2-.9 2-2V5c0-1.1-.9-2-2-2zM9 17H7v-7h2v7zm4 0h-2V7h2v10zm4 0h-2v-4h2v4z\"/>\n",
              "    </g>\n",
              "</svg>\n",
              "  </button>\n",
              "\n",
              "<style>\n",
              "  .colab-df-quickchart {\n",
              "      --bg-color: #E8F0FE;\n",
              "      --fill-color: #1967D2;\n",
              "      --hover-bg-color: #E2EBFA;\n",
              "      --hover-fill-color: #174EA6;\n",
              "      --disabled-fill-color: #AAA;\n",
              "      --disabled-bg-color: #DDD;\n",
              "  }\n",
              "\n",
              "  [theme=dark] .colab-df-quickchart {\n",
              "      --bg-color: #3B4455;\n",
              "      --fill-color: #D2E3FC;\n",
              "      --hover-bg-color: #434B5C;\n",
              "      --hover-fill-color: #FFFFFF;\n",
              "      --disabled-bg-color: #3B4455;\n",
              "      --disabled-fill-color: #666;\n",
              "  }\n",
              "\n",
              "  .colab-df-quickchart {\n",
              "    background-color: var(--bg-color);\n",
              "    border: none;\n",
              "    border-radius: 50%;\n",
              "    cursor: pointer;\n",
              "    display: none;\n",
              "    fill: var(--fill-color);\n",
              "    height: 32px;\n",
              "    padding: 0;\n",
              "    width: 32px;\n",
              "  }\n",
              "\n",
              "  .colab-df-quickchart:hover {\n",
              "    background-color: var(--hover-bg-color);\n",
              "    box-shadow: 0 1px 2px rgba(60, 64, 67, 0.3), 0 1px 3px 1px rgba(60, 64, 67, 0.15);\n",
              "    fill: var(--button-hover-fill-color);\n",
              "  }\n",
              "\n",
              "  .colab-df-quickchart-complete:disabled,\n",
              "  .colab-df-quickchart-complete:disabled:hover {\n",
              "    background-color: var(--disabled-bg-color);\n",
              "    fill: var(--disabled-fill-color);\n",
              "    box-shadow: none;\n",
              "  }\n",
              "\n",
              "  .colab-df-spinner {\n",
              "    border: 2px solid var(--fill-color);\n",
              "    border-color: transparent;\n",
              "    border-bottom-color: var(--fill-color);\n",
              "    animation:\n",
              "      spin 1s steps(1) infinite;\n",
              "  }\n",
              "\n",
              "  @keyframes spin {\n",
              "    0% {\n",
              "      border-color: transparent;\n",
              "      border-bottom-color: var(--fill-color);\n",
              "      border-left-color: var(--fill-color);\n",
              "    }\n",
              "    20% {\n",
              "      border-color: transparent;\n",
              "      border-left-color: var(--fill-color);\n",
              "      border-top-color: var(--fill-color);\n",
              "    }\n",
              "    30% {\n",
              "      border-color: transparent;\n",
              "      border-left-color: var(--fill-color);\n",
              "      border-top-color: var(--fill-color);\n",
              "      border-right-color: var(--fill-color);\n",
              "    }\n",
              "    40% {\n",
              "      border-color: transparent;\n",
              "      border-right-color: var(--fill-color);\n",
              "      border-top-color: var(--fill-color);\n",
              "    }\n",
              "    60% {\n",
              "      border-color: transparent;\n",
              "      border-right-color: var(--fill-color);\n",
              "    }\n",
              "    80% {\n",
              "      border-color: transparent;\n",
              "      border-right-color: var(--fill-color);\n",
              "      border-bottom-color: var(--fill-color);\n",
              "    }\n",
              "    90% {\n",
              "      border-color: transparent;\n",
              "      border-bottom-color: var(--fill-color);\n",
              "    }\n",
              "  }\n",
              "</style>\n",
              "\n",
              "  <script>\n",
              "    async function quickchart(key) {\n",
              "      const quickchartButtonEl =\n",
              "        document.querySelector('#' + key + ' button');\n",
              "      quickchartButtonEl.disabled = true;  // To prevent multiple clicks.\n",
              "      quickchartButtonEl.classList.add('colab-df-spinner');\n",
              "      try {\n",
              "        const charts = await google.colab.kernel.invokeFunction(\n",
              "            'suggestCharts', [key], {});\n",
              "      } catch (error) {\n",
              "        console.error('Error during call to suggestCharts:', error);\n",
              "      }\n",
              "      quickchartButtonEl.classList.remove('colab-df-spinner');\n",
              "      quickchartButtonEl.classList.add('colab-df-quickchart-complete');\n",
              "    }\n",
              "    (() => {\n",
              "      let quickchartButtonEl =\n",
              "        document.querySelector('#df-b6cbf084-9de6-48c6-b238-991817639031 button');\n",
              "      quickchartButtonEl.style.display =\n",
              "        google.colab.kernel.accessAllowed ? 'block' : 'none';\n",
              "    })();\n",
              "  </script>\n",
              "</div>\n",
              "    </div>\n",
              "  </div>\n"
            ],
            "application/vnd.google.colaboratory.intrinsic+json": {
              "type": "dataframe",
              "summary": "{\n  \"name\": \"display(contacts\",\n  \"rows\": 8,\n  \"fields\": [\n    {\n      \"column\": \"n_guests\",\n      \"properties\": {\n        \"dtype\": \"number\",\n        \"std\": 2764.486973535478,\n        \"min\": 1.0,\n        \"max\": 7823.0,\n        \"num_unique_values\": 7,\n        \"samples\": [\n          7823.0,\n          2.42260002556564,\n          3.0\n        ],\n        \"semantic_type\": \"\",\n        \"description\": \"\"\n      }\n    },\n    {\n      \"column\": \"n_messages\",\n      \"properties\": {\n        \"dtype\": \"number\",\n        \"std\": 2759.5039852502337,\n        \"min\": 1.0,\n        \"max\": 7823.0,\n        \"num_unique_values\": 8,\n        \"samples\": [\n          6.319953981848395,\n          4.0,\n          7823.0\n        ],\n        \"semantic_type\": \"\",\n        \"description\": \"\"\n      }\n    },\n    {\n      \"column\": \"length_stay\",\n      \"properties\": {\n        \"dtype\": \"string\",\n        \"num_unique_values\": 8,\n        \"samples\": [\n          \"5 days 19:25:32.864629937\",\n          \"3 days 00:00:00\",\n          \"7823\"\n        ],\n        \"semantic_type\": \"\",\n        \"description\": \"\"\n      }\n    }\n  ]\n}"
            }
          },
          "metadata": {}
        }
      ]
    },
    {
      "cell_type": "markdown",
      "source": [
        "Calculate Skewness"
      ],
      "metadata": {
        "id": "VjfykaQLtF3C"
      }
    },
    {
      "cell_type": "code",
      "source": [
        "display(contacts.skew(axis = 0, numeric_only = True, skipna = True))"
      ],
      "metadata": {
        "colab": {
          "base_uri": "https://localhost:8080/",
          "height": 86
        },
        "id": "QgqTtlvYrveB",
        "outputId": "0d5b5153-8e8b-44f6-8958-5a02c3947bcf"
      },
      "execution_count": null,
      "outputs": [
        {
          "output_type": "display_data",
          "data": {
            "text/plain": [
              "n_guests      2.441468\n",
              "n_messages    3.696440\n",
              "accepted      0.145883\n",
              "dtype: float64"
            ]
          },
          "metadata": {}
        }
      ]
    },
    {
      "cell_type": "markdown",
      "source": [
        "All columns have a significant positive skewness except accepted- which could be attributed to the fact. that it was derived from an existing column."
      ],
      "metadata": {
        "id": "nT37XnMByg6w"
      }
    },
    {
      "cell_type": "code",
      "source": [
        "from scipy.stats import boxcox\n"
      ],
      "metadata": {
        "id": "gxsfH0ZTygDD"
      },
      "execution_count": null,
      "outputs": []
    },
    {
      "cell_type": "code",
      "source": [
        "n_guests_shifted = contacts['n_guests'] + 1 - contacts['n_guests'].min()\n",
        "contacts['n_guests_transformed'], best_lambda_guests = boxcox(n_guests_shifted)\n",
        "\n",
        "# Transform 'n_messages'\n",
        "n_messages_shifted = contacts['n_messages'] + 1 - contacts['n_messages'].min()\n",
        "contacts['n_messages_transformed'], best_lambda_messages = boxcox(n_messages_shifted)"
      ],
      "metadata": {
        "id": "RXVaPfn-0Iw2"
      },
      "execution_count": null,
      "outputs": []
    },
    {
      "cell_type": "code",
      "source": [
        "display(contacts.describe())"
      ],
      "metadata": {
        "colab": {
          "base_uri": "https://localhost:8080/",
          "height": 300
        },
        "id": "fXjVCZBi29_M",
        "outputId": "cfb5ad52-5ef1-4820-bb54-269250a2849b"
      },
      "execution_count": null,
      "outputs": [
        {
          "output_type": "display_data",
          "data": {
            "text/plain": [
              "          n_guests   n_messages                 length_stay  \\\n",
              "count  7823.000000  7823.000000                        7823   \n",
              "mean      2.422600     6.319954   5 days 19:25:32.864629937   \n",
              "std       1.617347     6.472827  14 days 23:45:24.447710564   \n",
              "min       1.000000     1.000000             1 days 00:00:00   \n",
              "25%       1.000000     2.000000             2 days 00:00:00   \n",
              "50%       2.000000     4.000000             3 days 00:00:00   \n",
              "75%       3.000000     8.000000             5 days 00:00:00   \n",
              "max      16.000000   102.000000           334 days 00:00:00   \n",
              "\n",
              "       n_guests_transformed  n_messages_transformed  \n",
              "count           7823.000000             7823.000000  \n",
              "mean               0.601994                1.222845  \n",
              "std                0.436982                0.547209  \n",
              "min                0.000000                0.000000  \n",
              "25%                0.000000                0.640958  \n",
              "50%                0.621879                1.187881  \n",
              "75%                0.926787                1.654566  \n",
              "max                1.840475                2.853170  "
            ],
            "text/html": [
              "\n",
              "  <div id=\"df-482dd17b-83bb-4406-a781-f19b5d5edabc\" class=\"colab-df-container\">\n",
              "    <div>\n",
              "<style scoped>\n",
              "    .dataframe tbody tr th:only-of-type {\n",
              "        vertical-align: middle;\n",
              "    }\n",
              "\n",
              "    .dataframe tbody tr th {\n",
              "        vertical-align: top;\n",
              "    }\n",
              "\n",
              "    .dataframe thead th {\n",
              "        text-align: right;\n",
              "    }\n",
              "</style>\n",
              "<table border=\"1\" class=\"dataframe\">\n",
              "  <thead>\n",
              "    <tr style=\"text-align: right;\">\n",
              "      <th></th>\n",
              "      <th>n_guests</th>\n",
              "      <th>n_messages</th>\n",
              "      <th>length_stay</th>\n",
              "      <th>n_guests_transformed</th>\n",
              "      <th>n_messages_transformed</th>\n",
              "    </tr>\n",
              "  </thead>\n",
              "  <tbody>\n",
              "    <tr>\n",
              "      <th>count</th>\n",
              "      <td>7823.000000</td>\n",
              "      <td>7823.000000</td>\n",
              "      <td>7823</td>\n",
              "      <td>7823.000000</td>\n",
              "      <td>7823.000000</td>\n",
              "    </tr>\n",
              "    <tr>\n",
              "      <th>mean</th>\n",
              "      <td>2.422600</td>\n",
              "      <td>6.319954</td>\n",
              "      <td>5 days 19:25:32.864629937</td>\n",
              "      <td>0.601994</td>\n",
              "      <td>1.222845</td>\n",
              "    </tr>\n",
              "    <tr>\n",
              "      <th>std</th>\n",
              "      <td>1.617347</td>\n",
              "      <td>6.472827</td>\n",
              "      <td>14 days 23:45:24.447710564</td>\n",
              "      <td>0.436982</td>\n",
              "      <td>0.547209</td>\n",
              "    </tr>\n",
              "    <tr>\n",
              "      <th>min</th>\n",
              "      <td>1.000000</td>\n",
              "      <td>1.000000</td>\n",
              "      <td>1 days 00:00:00</td>\n",
              "      <td>0.000000</td>\n",
              "      <td>0.000000</td>\n",
              "    </tr>\n",
              "    <tr>\n",
              "      <th>25%</th>\n",
              "      <td>1.000000</td>\n",
              "      <td>2.000000</td>\n",
              "      <td>2 days 00:00:00</td>\n",
              "      <td>0.000000</td>\n",
              "      <td>0.640958</td>\n",
              "    </tr>\n",
              "    <tr>\n",
              "      <th>50%</th>\n",
              "      <td>2.000000</td>\n",
              "      <td>4.000000</td>\n",
              "      <td>3 days 00:00:00</td>\n",
              "      <td>0.621879</td>\n",
              "      <td>1.187881</td>\n",
              "    </tr>\n",
              "    <tr>\n",
              "      <th>75%</th>\n",
              "      <td>3.000000</td>\n",
              "      <td>8.000000</td>\n",
              "      <td>5 days 00:00:00</td>\n",
              "      <td>0.926787</td>\n",
              "      <td>1.654566</td>\n",
              "    </tr>\n",
              "    <tr>\n",
              "      <th>max</th>\n",
              "      <td>16.000000</td>\n",
              "      <td>102.000000</td>\n",
              "      <td>334 days 00:00:00</td>\n",
              "      <td>1.840475</td>\n",
              "      <td>2.853170</td>\n",
              "    </tr>\n",
              "  </tbody>\n",
              "</table>\n",
              "</div>\n",
              "    <div class=\"colab-df-buttons\">\n",
              "\n",
              "  <div class=\"colab-df-container\">\n",
              "    <button class=\"colab-df-convert\" onclick=\"convertToInteractive('df-482dd17b-83bb-4406-a781-f19b5d5edabc')\"\n",
              "            title=\"Convert this dataframe to an interactive table.\"\n",
              "            style=\"display:none;\">\n",
              "\n",
              "  <svg xmlns=\"http://www.w3.org/2000/svg\" height=\"24px\" viewBox=\"0 -960 960 960\">\n",
              "    <path d=\"M120-120v-720h720v720H120Zm60-500h600v-160H180v160Zm220 220h160v-160H400v160Zm0 220h160v-160H400v160ZM180-400h160v-160H180v160Zm440 0h160v-160H620v160ZM180-180h160v-160H180v160Zm440 0h160v-160H620v160Z\"/>\n",
              "  </svg>\n",
              "    </button>\n",
              "\n",
              "  <style>\n",
              "    .colab-df-container {\n",
              "      display:flex;\n",
              "      gap: 12px;\n",
              "    }\n",
              "\n",
              "    .colab-df-convert {\n",
              "      background-color: #E8F0FE;\n",
              "      border: none;\n",
              "      border-radius: 50%;\n",
              "      cursor: pointer;\n",
              "      display: none;\n",
              "      fill: #1967D2;\n",
              "      height: 32px;\n",
              "      padding: 0 0 0 0;\n",
              "      width: 32px;\n",
              "    }\n",
              "\n",
              "    .colab-df-convert:hover {\n",
              "      background-color: #E2EBFA;\n",
              "      box-shadow: 0px 1px 2px rgba(60, 64, 67, 0.3), 0px 1px 3px 1px rgba(60, 64, 67, 0.15);\n",
              "      fill: #174EA6;\n",
              "    }\n",
              "\n",
              "    .colab-df-buttons div {\n",
              "      margin-bottom: 4px;\n",
              "    }\n",
              "\n",
              "    [theme=dark] .colab-df-convert {\n",
              "      background-color: #3B4455;\n",
              "      fill: #D2E3FC;\n",
              "    }\n",
              "\n",
              "    [theme=dark] .colab-df-convert:hover {\n",
              "      background-color: #434B5C;\n",
              "      box-shadow: 0px 1px 3px 1px rgba(0, 0, 0, 0.15);\n",
              "      filter: drop-shadow(0px 1px 2px rgba(0, 0, 0, 0.3));\n",
              "      fill: #FFFFFF;\n",
              "    }\n",
              "  </style>\n",
              "\n",
              "    <script>\n",
              "      const buttonEl =\n",
              "        document.querySelector('#df-482dd17b-83bb-4406-a781-f19b5d5edabc button.colab-df-convert');\n",
              "      buttonEl.style.display =\n",
              "        google.colab.kernel.accessAllowed ? 'block' : 'none';\n",
              "\n",
              "      async function convertToInteractive(key) {\n",
              "        const element = document.querySelector('#df-482dd17b-83bb-4406-a781-f19b5d5edabc');\n",
              "        const dataTable =\n",
              "          await google.colab.kernel.invokeFunction('convertToInteractive',\n",
              "                                                    [key], {});\n",
              "        if (!dataTable) return;\n",
              "\n",
              "        const docLinkHtml = 'Like what you see? Visit the ' +\n",
              "          '<a target=\"_blank\" href=https://colab.research.google.com/notebooks/data_table.ipynb>data table notebook</a>'\n",
              "          + ' to learn more about interactive tables.';\n",
              "        element.innerHTML = '';\n",
              "        dataTable['output_type'] = 'display_data';\n",
              "        await google.colab.output.renderOutput(dataTable, element);\n",
              "        const docLink = document.createElement('div');\n",
              "        docLink.innerHTML = docLinkHtml;\n",
              "        element.appendChild(docLink);\n",
              "      }\n",
              "    </script>\n",
              "  </div>\n",
              "\n",
              "\n",
              "<div id=\"df-c0e47ae3-28ad-45a5-83b2-460eee5ea301\">\n",
              "  <button class=\"colab-df-quickchart\" onclick=\"quickchart('df-c0e47ae3-28ad-45a5-83b2-460eee5ea301')\"\n",
              "            title=\"Suggest charts\"\n",
              "            style=\"display:none;\">\n",
              "\n",
              "<svg xmlns=\"http://www.w3.org/2000/svg\" height=\"24px\"viewBox=\"0 0 24 24\"\n",
              "     width=\"24px\">\n",
              "    <g>\n",
              "        <path d=\"M19 3H5c-1.1 0-2 .9-2 2v14c0 1.1.9 2 2 2h14c1.1 0 2-.9 2-2V5c0-1.1-.9-2-2-2zM9 17H7v-7h2v7zm4 0h-2V7h2v10zm4 0h-2v-4h2v4z\"/>\n",
              "    </g>\n",
              "</svg>\n",
              "  </button>\n",
              "\n",
              "<style>\n",
              "  .colab-df-quickchart {\n",
              "      --bg-color: #E8F0FE;\n",
              "      --fill-color: #1967D2;\n",
              "      --hover-bg-color: #E2EBFA;\n",
              "      --hover-fill-color: #174EA6;\n",
              "      --disabled-fill-color: #AAA;\n",
              "      --disabled-bg-color: #DDD;\n",
              "  }\n",
              "\n",
              "  [theme=dark] .colab-df-quickchart {\n",
              "      --bg-color: #3B4455;\n",
              "      --fill-color: #D2E3FC;\n",
              "      --hover-bg-color: #434B5C;\n",
              "      --hover-fill-color: #FFFFFF;\n",
              "      --disabled-bg-color: #3B4455;\n",
              "      --disabled-fill-color: #666;\n",
              "  }\n",
              "\n",
              "  .colab-df-quickchart {\n",
              "    background-color: var(--bg-color);\n",
              "    border: none;\n",
              "    border-radius: 50%;\n",
              "    cursor: pointer;\n",
              "    display: none;\n",
              "    fill: var(--fill-color);\n",
              "    height: 32px;\n",
              "    padding: 0;\n",
              "    width: 32px;\n",
              "  }\n",
              "\n",
              "  .colab-df-quickchart:hover {\n",
              "    background-color: var(--hover-bg-color);\n",
              "    box-shadow: 0 1px 2px rgba(60, 64, 67, 0.3), 0 1px 3px 1px rgba(60, 64, 67, 0.15);\n",
              "    fill: var(--button-hover-fill-color);\n",
              "  }\n",
              "\n",
              "  .colab-df-quickchart-complete:disabled,\n",
              "  .colab-df-quickchart-complete:disabled:hover {\n",
              "    background-color: var(--disabled-bg-color);\n",
              "    fill: var(--disabled-fill-color);\n",
              "    box-shadow: none;\n",
              "  }\n",
              "\n",
              "  .colab-df-spinner {\n",
              "    border: 2px solid var(--fill-color);\n",
              "    border-color: transparent;\n",
              "    border-bottom-color: var(--fill-color);\n",
              "    animation:\n",
              "      spin 1s steps(1) infinite;\n",
              "  }\n",
              "\n",
              "  @keyframes spin {\n",
              "    0% {\n",
              "      border-color: transparent;\n",
              "      border-bottom-color: var(--fill-color);\n",
              "      border-left-color: var(--fill-color);\n",
              "    }\n",
              "    20% {\n",
              "      border-color: transparent;\n",
              "      border-left-color: var(--fill-color);\n",
              "      border-top-color: var(--fill-color);\n",
              "    }\n",
              "    30% {\n",
              "      border-color: transparent;\n",
              "      border-left-color: var(--fill-color);\n",
              "      border-top-color: var(--fill-color);\n",
              "      border-right-color: var(--fill-color);\n",
              "    }\n",
              "    40% {\n",
              "      border-color: transparent;\n",
              "      border-right-color: var(--fill-color);\n",
              "      border-top-color: var(--fill-color);\n",
              "    }\n",
              "    60% {\n",
              "      border-color: transparent;\n",
              "      border-right-color: var(--fill-color);\n",
              "    }\n",
              "    80% {\n",
              "      border-color: transparent;\n",
              "      border-right-color: var(--fill-color);\n",
              "      border-bottom-color: var(--fill-color);\n",
              "    }\n",
              "    90% {\n",
              "      border-color: transparent;\n",
              "      border-bottom-color: var(--fill-color);\n",
              "    }\n",
              "  }\n",
              "</style>\n",
              "\n",
              "  <script>\n",
              "    async function quickchart(key) {\n",
              "      const quickchartButtonEl =\n",
              "        document.querySelector('#' + key + ' button');\n",
              "      quickchartButtonEl.disabled = true;  // To prevent multiple clicks.\n",
              "      quickchartButtonEl.classList.add('colab-df-spinner');\n",
              "      try {\n",
              "        const charts = await google.colab.kernel.invokeFunction(\n",
              "            'suggestCharts', [key], {});\n",
              "      } catch (error) {\n",
              "        console.error('Error during call to suggestCharts:', error);\n",
              "      }\n",
              "      quickchartButtonEl.classList.remove('colab-df-spinner');\n",
              "      quickchartButtonEl.classList.add('colab-df-quickchart-complete');\n",
              "    }\n",
              "    (() => {\n",
              "      let quickchartButtonEl =\n",
              "        document.querySelector('#df-c0e47ae3-28ad-45a5-83b2-460eee5ea301 button');\n",
              "      quickchartButtonEl.style.display =\n",
              "        google.colab.kernel.accessAllowed ? 'block' : 'none';\n",
              "    })();\n",
              "  </script>\n",
              "</div>\n",
              "    </div>\n",
              "  </div>\n"
            ],
            "application/vnd.google.colaboratory.intrinsic+json": {
              "type": "dataframe",
              "summary": "{\n  \"name\": \"display(contacts\",\n  \"rows\": 8,\n  \"fields\": [\n    {\n      \"column\": \"n_guests\",\n      \"properties\": {\n        \"dtype\": \"number\",\n        \"std\": 2764.486973535478,\n        \"min\": 1.0,\n        \"max\": 7823.0,\n        \"num_unique_values\": 7,\n        \"samples\": [\n          7823.0,\n          2.42260002556564,\n          3.0\n        ],\n        \"semantic_type\": \"\",\n        \"description\": \"\"\n      }\n    },\n    {\n      \"column\": \"n_messages\",\n      \"properties\": {\n        \"dtype\": \"number\",\n        \"std\": 2759.5039852502337,\n        \"min\": 1.0,\n        \"max\": 7823.0,\n        \"num_unique_values\": 8,\n        \"samples\": [\n          6.319953981848395,\n          4.0,\n          7823.0\n        ],\n        \"semantic_type\": \"\",\n        \"description\": \"\"\n      }\n    },\n    {\n      \"column\": \"length_stay\",\n      \"properties\": {\n        \"dtype\": \"string\",\n        \"num_unique_values\": 8,\n        \"samples\": [\n          \"5 days 19:25:32.864629937\",\n          \"3 days 00:00:00\",\n          \"7823\"\n        ],\n        \"semantic_type\": \"\",\n        \"description\": \"\"\n      }\n    },\n    {\n      \"column\": \"n_guests_transformed\",\n      \"properties\": {\n        \"dtype\": \"number\",\n        \"std\": 2765.624582529357,\n        \"min\": 0.0,\n        \"max\": 7823.0,\n        \"num_unique_values\": 7,\n        \"samples\": [\n          7823.0,\n          0.6019936894356102,\n          0.9267874099134983\n        ],\n        \"semantic_type\": \"\",\n        \"description\": \"\"\n      }\n    },\n    {\n      \"column\": \"n_messages_transformed\",\n      \"properties\": {\n        \"dtype\": \"number\",\n        \"std\": 2765.438859908944,\n        \"min\": 0.0,\n        \"max\": 7823.0,\n        \"num_unique_values\": 8,\n        \"samples\": [\n          1.2228445411391955,\n          1.1878813550349854,\n          7823.0\n        ],\n        \"semantic_type\": \"\",\n        \"description\": \"\"\n      }\n    }\n  ]\n}"
            }
          },
          "metadata": {}
        }
      ]
    },
    {
      "cell_type": "code",
      "source": [
        "#Number of guests stayed\n",
        "contacts_less8 = contacts[contacts['n_guests'] < 8]\n",
        "sns.displot(contacts_less8, x = 'n_guests', hue = 'accepted', multiple=\"dodge\")\n",
        "plt.show()"
      ],
      "metadata": {
        "colab": {
          "base_uri": "https://localhost:8080/",
          "height": 506
        },
        "id": "W1ZEPTbw3Lcq",
        "outputId": "3b35fd6a-aef8-403a-a3fa-4b2a15c046ff"
      },
      "execution_count": null,
      "outputs": [
        {
          "output_type": "display_data",
          "data": {
            "text/plain": [
              "<Figure size 584.875x500 with 1 Axes>"
            ],
            "image/png": "[encoded data removed]"
          },
          "metadata": {}
        }
      ]
    },
    {
      "cell_type": "code",
      "source": [
        "#Conversion rate from accepting to booking\n",
        "contacts['ts_booking_at'].count()/contacts['ts_accepted_at'].count()"
      ],
      "metadata": {
        "colab": {
          "base_uri": "https://localhost:8080/"
        },
        "id": "RvfnBaWV4coE",
        "outputId": "31954afc-b79d-4372-934a-4d62f484012d"
      },
      "execution_count": null,
      "outputs": [
        {
          "output_type": "execute_result",
          "data": {
            "text/plain": [
              "0.5993934381031155"
            ]
          },
          "metadata": {},
          "execution_count": 14
        }
      ]
    },
    {
      "cell_type": "code",
      "source": [
        "contacts['month_checkin'] = contacts['ds_checkin'].dt.month #Extract month from checkin date\n",
        "contacts_checkin = contacts[contacts['month_checkin'] > 9] #Use only peak season months (Oct, Nov, Dec)\n",
        "\n",
        "#Distribution of checkin among October, November, and December and split by acceptance\n",
        "sns.displot(contacts_checkin, x='month_checkin', hue = 'accepted', multiple=\"dodge\")\n",
        "plt.xticks([10, 11, 12])\n",
        "plt.show()"
      ],
      "metadata": {
        "colab": {
          "base_uri": "https://localhost:8080/",
          "height": 506
        },
        "id": "UfaLFOOj4iuM",
        "outputId": "09d1adf1-c39e-4878-bb68-0d515b1f7029"
      },
      "execution_count": null,
      "outputs": [
        {
          "output_type": "display_data",
          "data": {
            "text/plain": [
              "<Figure size 584.875x500 with 1 Axes>"
            ],
            "image/png": "[encoded data removed]"
          },
          "metadata": {}
        }
      ]
    },
    {
      "cell_type": "markdown",
      "source": [
        "## Searches Dataset"
      ],
      "metadata": {
        "id": "ivkvHCQP4tK7"
      }
    },
    {
      "cell_type": "code",
      "source": [
        "searches = searches.drop(columns=['filter_neighborhoods'])"
      ],
      "metadata": {
        "id": "LAATL8c_4so0"
      },
      "execution_count": null,
      "outputs": []
    },
    {
      "cell_type": "code",
      "source": [
        "#Convert date column to datetime data type for easier analysis\n",
        "searches['ds'] = pd.to_datetime(searches['ds'])\n",
        "searches['ds_checkin'] = pd.to_datetime(searches['ds_checkin'])\n",
        "searches['ds_checkout'] = pd.to_datetime(searches['ds_checkout'])\n",
        "\n",
        "#How soon they want the room( the time between their search and the day they want to check in )\n",
        "searches['length_preperation'] = searches['ds_checkin'] - searches['ds']"
      ],
      "metadata": {
        "id": "wQGPtMfu41M3"
      },
      "execution_count": null,
      "outputs": []
    },
    {
      "cell_type": "code",
      "source": [
        "#Describe searches dataset\n",
        "display(searches.describe())"
      ],
      "metadata": {
        "colab": {
          "base_uri": "https://localhost:8080/",
          "height": 300
        },
        "id": "Kv5UWvRv5U2l",
        "outputId": "7fef6ede-ca9b-418f-807f-59250352e0ce"
      },
      "execution_count": null,
      "outputs": [
        {
          "output_type": "display_data",
          "data": {
            "text/plain": [
              "         n_searches      n_nights  n_guests_min  n_guests_max  \\\n",
              "count  35737.000000  23888.000000  35737.000000  35737.000000   \n",
              "mean       9.206565      7.672765      1.742955      2.105857   \n",
              "std       17.348746     21.557614      1.460440      1.817358   \n",
              "min        1.000000      0.000000      1.000000      1.000000   \n",
              "25%        1.000000      2.000000      1.000000      1.000000   \n",
              "50%        4.000000      3.000000      1.000000      2.000000   \n",
              "75%       10.000000      5.000000      2.000000      2.000000   \n",
              "max      448.000000    399.000000     16.000000     16.000000   \n",
              "\n",
              "       filter_price_min  filter_price_max          length_preperation  \n",
              "count      13322.000000      1.332200e+04                       23888  \n",
              "mean           8.470200      9.019063e+07  51 days 08:11:53.730743469  \n",
              "std           53.987679      2.978482e+08  65 days 18:56:19.491940518  \n",
              "min            0.000000      9.000000e+00           -1 days +00:00:00  \n",
              "25%            0.000000      8.600000e+01            10 days 00:00:00  \n",
              "50%            0.000000      1.390000e+02            26 days 00:00:00  \n",
              "75%            0.000000      3.010000e+02            67 days 00:00:00  \n",
              "max         1250.000000      1.073742e+09           604 days 00:00:00  "
            ],
            "text/html": [
              "\n",
              "  <div id=\"df-c94c3d46-3420-47d8-be01-4a5976cf26e0\" class=\"colab-df-container\">\n",
              "    <div>\n",
              "<style scoped>\n",
              "    .dataframe tbody tr th:only-of-type {\n",
              "        vertical-align: middle;\n",
              "    }\n",
              "\n",
              "    .dataframe tbody tr th {\n",
              "        vertical-align: top;\n",
              "    }\n",
              "\n",
              "    .dataframe thead th {\n",
              "        text-align: right;\n",
              "    }\n",
              "</style>\n",
              "<table border=\"1\" class=\"dataframe\">\n",
              "  <thead>\n",
              "    <tr style=\"text-align: right;\">\n",
              "      <th></th>\n",
              "      <th>n_searches</th>\n",
              "      <th>n_nights</th>\n",
              "      <th>n_guests_min</th>\n",
              "      <th>n_guests_max</th>\n",
              "      <th>filter_price_min</th>\n",
              "      <th>filter_price_max</th>\n",
              "      <th>length_preperation</th>\n",
              "    </tr>\n",
              "  </thead>\n",
              "  <tbody>\n",
              "    <tr>\n",
              "      <th>count</th>\n",
              "      <td>35737.000000</td>\n",
              "      <td>23888.000000</td>\n",
              "      <td>35737.000000</td>\n",
              "      <td>35737.000000</td>\n",
              "      <td>13322.000000</td>\n",
              "      <td>1.332200e+04</td>\n",
              "      <td>23888</td>\n",
              "    </tr>\n",
              "    <tr>\n",
              "      <th>mean</th>\n",
              "      <td>9.206565</td>\n",
              "      <td>7.672765</td>\n",
              "      <td>1.742955</td>\n",
              "      <td>2.105857</td>\n",
              "      <td>8.470200</td>\n",
              "      <td>9.019063e+07</td>\n",
              "      <td>51 days 08:11:53.730743469</td>\n",
              "    </tr>\n",
              "    <tr>\n",
              "      <th>std</th>\n",
              "      <td>17.348746</td>\n",
              "      <td>21.557614</td>\n",
              "      <td>1.460440</td>\n",
              "      <td>1.817358</td>\n",
              "      <td>53.987679</td>\n",
              "      <td>2.978482e+08</td>\n",
              "      <td>65 days 18:56:19.491940518</td>\n",
              "    </tr>\n",
              "    <tr>\n",
              "      <th>min</th>\n",
              "      <td>1.000000</td>\n",
              "      <td>0.000000</td>\n",
              "      <td>1.000000</td>\n",
              "      <td>1.000000</td>\n",
              "      <td>0.000000</td>\n",
              "      <td>9.000000e+00</td>\n",
              "      <td>-1 days +00:00:00</td>\n",
              "    </tr>\n",
              "    <tr>\n",
              "      <th>25%</th>\n",
              "      <td>1.000000</td>\n",
              "      <td>2.000000</td>\n",
              "      <td>1.000000</td>\n",
              "      <td>1.000000</td>\n",
              "      <td>0.000000</td>\n",
              "      <td>8.600000e+01</td>\n",
              "      <td>10 days 00:00:00</td>\n",
              "    </tr>\n",
              "    <tr>\n",
              "      <th>50%</th>\n",
              "      <td>4.000000</td>\n",
              "      <td>3.000000</td>\n",
              "      <td>1.000000</td>\n",
              "      <td>2.000000</td>\n",
              "      <td>0.000000</td>\n",
              "      <td>1.390000e+02</td>\n",
              "      <td>26 days 00:00:00</td>\n",
              "    </tr>\n",
              "    <tr>\n",
              "      <th>75%</th>\n",
              "      <td>10.000000</td>\n",
              "      <td>5.000000</td>\n",
              "      <td>2.000000</td>\n",
              "      <td>2.000000</td>\n",
              "      <td>0.000000</td>\n",
              "      <td>3.010000e+02</td>\n",
              "      <td>67 days 00:00:00</td>\n",
              "    </tr>\n",
              "    <tr>\n",
              "      <th>max</th>\n",
              "      <td>448.000000</td>\n",
              "      <td>399.000000</td>\n",
              "      <td>16.000000</td>\n",
              "      <td>16.000000</td>\n",
              "      <td>1250.000000</td>\n",
              "      <td>1.073742e+09</td>\n",
              "      <td>604 days 00:00:00</td>\n",
              "    </tr>\n",
              "  </tbody>\n",
              "</table>\n",
              "</div>\n",
              "    <div class=\"colab-df-buttons\">\n",
              "\n",
              "  <div class=\"colab-df-container\">\n",
              "    <button class=\"colab-df-convert\" onclick=\"convertToInteractive('df-c94c3d46-3420-47d8-be01-4a5976cf26e0')\"\n",
              "            title=\"Convert this dataframe to an interactive table.\"\n",
              "            style=\"display:none;\">\n",
              "\n",
              "  <svg xmlns=\"http://www.w3.org/2000/svg\" height=\"24px\" viewBox=\"0 -960 960 960\">\n",
              "    <path d=\"M120-120v-720h720v720H120Zm60-500h600v-160H180v160Zm220 220h160v-160H400v160Zm0 220h160v-160H400v160ZM180-400h160v-160H180v160Zm440 0h160v-160H620v160ZM180-180h160v-160H180v160Zm440 0h160v-160H620v160Z\"/>\n",
              "  </svg>\n",
              "    </button>\n",
              "\n",
              "  <style>\n",
              "    .colab-df-container {\n",
              "      display:flex;\n",
              "      gap: 12px;\n",
              "    }\n",
              "\n",
              "    .colab-df-convert {\n",
              "      background-color: #E8F0FE;\n",
              "      border: none;\n",
              "      border-radius: 50%;\n",
              "      cursor: pointer;\n",
              "      display: none;\n",
              "      fill: #1967D2;\n",
              "      height: 32px;\n",
              "      padding: 0 0 0 0;\n",
              "      width: 32px;\n",
              "    }\n",
              "\n",
              "    .colab-df-convert:hover {\n",
              "      background-color: #E2EBFA;\n",
              "      box-shadow: 0px 1px 2px rgba(60, 64, 67, 0.3), 0px 1px 3px 1px rgba(60, 64, 67, 0.15);\n",
              "      fill: #174EA6;\n",
              "    }\n",
              "\n",
              "    .colab-df-buttons div {\n",
              "      margin-bottom: 4px;\n",
              "    }\n",
              "\n",
              "    [theme=dark] .colab-df-convert {\n",
              "      background-color: #3B4455;\n",
              "      fill: #D2E3FC;\n",
              "    }\n",
              "\n",
              "    [theme=dark] .colab-df-convert:hover {\n",
              "      background-color: #434B5C;\n",
              "      box-shadow: 0px 1px 3px 1px rgba(0, 0, 0, 0.15);\n",
              "      filter: drop-shadow(0px 1px 2px rgba(0, 0, 0, 0.3));\n",
              "      fill: #FFFFFF;\n",
              "    }\n",
              "  </style>\n",
              "\n",
              "    <script>\n",
              "      const buttonEl =\n",
              "        document.querySelector('#df-c94c3d46-3420-47d8-be01-4a5976cf26e0 button.colab-df-convert');\n",
              "      buttonEl.style.display =\n",
              "        google.colab.kernel.accessAllowed ? 'block' : 'none';\n",
              "\n",
              "      async function convertToInteractive(key) {\n",
              "        const element = document.querySelector('#df-c94c3d46-3420-47d8-be01-4a5976cf26e0');\n",
              "        const dataTable =\n",
              "          await google.colab.kernel.invokeFunction('convertToInteractive',\n",
              "                                                    [key], {});\n",
              "        if (!dataTable) return;\n",
              "\n",
              "        const docLinkHtml = 'Like what you see? Visit the ' +\n",
              "          '<a target=\"_blank\" href=https://colab.research.google.com/notebooks/data_table.ipynb>data table notebook</a>'\n",
              "          + ' to learn more about interactive tables.';\n",
              "        element.innerHTML = '';\n",
              "        dataTable['output_type'] = 'display_data';\n",
              "        await google.colab.output.renderOutput(dataTable, element);\n",
              "        const docLink = document.createElement('div');\n",
              "        docLink.innerHTML = docLinkHtml;\n",
              "        element.appendChild(docLink);\n",
              "      }\n",
              "    </script>\n",
              "  </div>\n",
              "\n",
              "\n",
              "<div id=\"df-9ac029b1-1c08-41a6-a352-2c7b7ca0bf23\">\n",
              "  <button class=\"colab-df-quickchart\" onclick=\"quickchart('df-9ac029b1-1c08-41a6-a352-2c7b7ca0bf23')\"\n",
              "            title=\"Suggest charts\"\n",
              "            style=\"display:none;\">\n",
              "\n",
              "<svg xmlns=\"http://www.w3.org/2000/svg\" height=\"24px\"viewBox=\"0 0 24 24\"\n",
              "     width=\"24px\">\n",
              "    <g>\n",
              "        <path d=\"M19 3H5c-1.1 0-2 .9-2 2v14c0 1.1.9 2 2 2h14c1.1 0 2-.9 2-2V5c0-1.1-.9-2-2-2zM9 17H7v-7h2v7zm4 0h-2V7h2v10zm4 0h-2v-4h2v4z\"/>\n",
              "    </g>\n",
              "</svg>\n",
              "  </button>\n",
              "\n",
              "<style>\n",
              "  .colab-df-quickchart {\n",
              "      --bg-color: #E8F0FE;\n",
              "      --fill-color: #1967D2;\n",
              "      --hover-bg-color: #E2EBFA;\n",
              "      --hover-fill-color: #174EA6;\n",
              "      --disabled-fill-color: #AAA;\n",
              "      --disabled-bg-color: #DDD;\n",
              "  }\n",
              "\n",
              "  [theme=dark] .colab-df-quickchart {\n",
              "      --bg-color: #3B4455;\n",
              "      --fill-color: #D2E3FC;\n",
              "      --hover-bg-color: #434B5C;\n",
              "      --hover-fill-color: #FFFFFF;\n",
              "      --disabled-bg-color: #3B4455;\n",
              "      --disabled-fill-color: #666;\n",
              "  }\n",
              "\n",
              "  .colab-df-quickchart {\n",
              "    background-color: var(--bg-color);\n",
              "    border: none;\n",
              "    border-radius: 50%;\n",
              "    cursor: pointer;\n",
              "    display: none;\n",
              "    fill: var(--fill-color);\n",
              "    height: 32px;\n",
              "    padding: 0;\n",
              "    width: 32px;\n",
              "  }\n",
              "\n",
              "  .colab-df-quickchart:hover {\n",
              "    background-color: var(--hover-bg-color);\n",
              "    box-shadow: 0 1px 2px rgba(60, 64, 67, 0.3), 0 1px 3px 1px rgba(60, 64, 67, 0.15);\n",
              "    fill: var(--button-hover-fill-color);\n",
              "  }\n",
              "\n",
              "  .colab-df-quickchart-complete:disabled,\n",
              "  .colab-df-quickchart-complete:disabled:hover {\n",
              "    background-color: var(--disabled-bg-color);\n",
              "    fill: var(--disabled-fill-color);\n",
              "    box-shadow: none;\n",
              "  }\n",
              "\n",
              "  .colab-df-spinner {\n",
              "    border: 2px solid var(--fill-color);\n",
              "    border-color: transparent;\n",
              "    border-bottom-color: var(--fill-color);\n",
              "    animation:\n",
              "      spin 1s steps(1) infinite;\n",
              "  }\n",
              "\n",
              "  @keyframes spin {\n",
              "    0% {\n",
              "      border-color: transparent;\n",
              "      border-bottom-color: var(--fill-color);\n",
              "      border-left-color: var(--fill-color);\n",
              "    }\n",
              "    20% {\n",
              "      border-color: transparent;\n",
              "      border-left-color: var(--fill-color);\n",
              "      border-top-color: var(--fill-color);\n",
              "    }\n",
              "    30% {\n",
              "      border-color: transparent;\n",
              "      border-left-color: var(--fill-color);\n",
              "      border-top-color: var(--fill-color);\n",
              "      border-right-color: var(--fill-color);\n",
              "    }\n",
              "    40% {\n",
              "      border-color: transparent;\n",
              "      border-right-color: var(--fill-color);\n",
              "      border-top-color: var(--fill-color);\n",
              "    }\n",
              "    60% {\n",
              "      border-color: transparent;\n",
              "      border-right-color: var(--fill-color);\n",
              "    }\n",
              "    80% {\n",
              "      border-color: transparent;\n",
              "      border-right-color: var(--fill-color);\n",
              "      border-bottom-color: var(--fill-color);\n",
              "    }\n",
              "    90% {\n",
              "      border-color: transparent;\n",
              "      border-bottom-color: var(--fill-color);\n",
              "    }\n",
              "  }\n",
              "</style>\n",
              "\n",
              "  <script>\n",
              "    async function quickchart(key) {\n",
              "      const quickchartButtonEl =\n",
              "        document.querySelector('#' + key + ' button');\n",
              "      quickchartButtonEl.disabled = true;  // To prevent multiple clicks.\n",
              "      quickchartButtonEl.classList.add('colab-df-spinner');\n",
              "      try {\n",
              "        const charts = await google.colab.kernel.invokeFunction(\n",
              "            'suggestCharts', [key], {});\n",
              "      } catch (error) {\n",
              "        console.error('Error during call to suggestCharts:', error);\n",
              "      }\n",
              "      quickchartButtonEl.classList.remove('colab-df-spinner');\n",
              "      quickchartButtonEl.classList.add('colab-df-quickchart-complete');\n",
              "    }\n",
              "    (() => {\n",
              "      let quickchartButtonEl =\n",
              "        document.querySelector('#df-9ac029b1-1c08-41a6-a352-2c7b7ca0bf23 button');\n",
              "      quickchartButtonEl.style.display =\n",
              "        google.colab.kernel.accessAllowed ? 'block' : 'none';\n",
              "    })();\n",
              "  </script>\n",
              "</div>\n",
              "    </div>\n",
              "  </div>\n"
            ],
            "application/vnd.google.colaboratory.intrinsic+json": {
              "type": "dataframe",
              "summary": "{\n  \"name\": \"display(searches\",\n  \"rows\": 8,\n  \"fields\": [\n    {\n      \"column\": \"n_searches\",\n      \"properties\": {\n        \"dtype\": \"number\",\n        \"std\": 12611.105685446642,\n        \"min\": 1.0,\n        \"max\": 35737.0,\n        \"num_unique_values\": 7,\n        \"samples\": [\n          35737.0,\n          9.206564624898565,\n          10.0\n        ],\n        \"semantic_type\": \"\",\n        \"description\": \"\"\n      }\n    },\n    {\n      \"column\": \"n_nights\",\n      \"properties\": {\n        \"dtype\": \"number\",\n        \"std\": 8424.671431037892,\n        \"min\": 0.0,\n        \"max\": 23888.0,\n        \"num_unique_values\": 8,\n        \"samples\": [\n          7.672764567983925,\n          3.0,\n          23888.0\n        ],\n        \"semantic_type\": \"\",\n        \"description\": \"\"\n      }\n    },\n    {\n      \"column\": \"n_guests_min\",\n      \"properties\": {\n        \"dtype\": \"number\",\n        \"std\": 12633.716106589149,\n        \"min\": 1.0,\n        \"max\": 35737.0,\n        \"num_unique_values\": 6,\n        \"samples\": [\n          35737.0,\n          1.74295548031452,\n          16.0\n        ],\n        \"semantic_type\": \"\",\n        \"description\": \"\"\n      }\n    },\n    {\n      \"column\": \"n_guests_max\",\n      \"properties\": {\n        \"dtype\": \"number\",\n        \"std\": 12633.629204443198,\n        \"min\": 1.0,\n        \"max\": 35737.0,\n        \"num_unique_values\": 6,\n        \"samples\": [\n          35737.0,\n          2.1058566751546017,\n          16.0\n        ],\n        \"semantic_type\": \"\",\n        \"description\": \"\"\n      }\n    },\n    {\n      \"column\": \"filter_price_min\",\n      \"properties\": {\n        \"dtype\": \"number\",\n        \"std\": 4663.999674364005,\n        \"min\": 0.0,\n        \"max\": 13322.0,\n        \"num_unique_values\": 5,\n        \"samples\": [\n          8.47019966971926,\n          1250.0,\n          53.9876793305723\n        ],\n        \"semantic_type\": \"\",\n        \"description\": \"\"\n      }\n    },\n    {\n      \"column\": \"filter_price_max\",\n      \"properties\": {\n        \"dtype\": \"number\",\n        \"std\": 374673954.8681026,\n        \"min\": 9.0,\n        \"max\": 1073741823.0,\n        \"num_unique_values\": 8,\n        \"samples\": [\n          90190634.43191713,\n          139.0,\n          13322.0\n        ],\n        \"semantic_type\": \"\",\n        \"description\": \"\"\n      }\n    },\n    {\n      \"column\": \"length_preperation\",\n      \"properties\": {\n        \"dtype\": \"string\",\n        \"num_unique_values\": 8,\n        \"samples\": [\n          \"51 days 08:11:53.730743469\",\n          \"26 days 00:00:00\",\n          \"23888\"\n        ],\n        \"semantic_type\": \"\",\n        \"description\": \"\"\n      }\n    }\n  ]\n}"
            }
          },
          "metadata": {}
        }
      ]
    },
    {
      "cell_type": "markdown",
      "source": [
        "OBSERVATION:\n",
        "- This shows that the number of guests is usually 1 or 2.\n",
        "- This can be understood since even at 75% the n_guests_min and n_guests_max are 2 and at 25% is 1.\n",
        "- Leads to the assumption that smaller accommodations are preferred"
      ],
      "metadata": {
        "id": "7CNf0SSa5dmO"
      }
    },
    {
      "cell_type": "code",
      "source": [
        "display(searches.skew(axis = 0, numeric_only = True, skipna = True))"
      ],
      "metadata": {
        "colab": {
          "base_uri": "https://localhost:8080/",
          "height": 139
        },
        "id": "bHm6i_XG5mLd",
        "outputId": "c2161467-0aa7-4046-cbe1-dc7677d4f292"
      },
      "execution_count": null,
      "outputs": [
        {
          "output_type": "display_data",
          "data": {
            "text/plain": [
              "n_searches           7.509258\n",
              "n_nights             9.942364\n",
              "n_guests_min         3.583798\n",
              "n_guests_max         3.148548\n",
              "filter_price_min    11.087745\n",
              "filter_price_max     2.999833\n",
              "dtype: float64"
            ]
          },
          "metadata": {}
        }
      ]
    },
    {
      "cell_type": "markdown",
      "source": [
        "All numeric columns have a Fisher-Pearson coefficient value greater than 1. This results in a positive skewness."
      ],
      "metadata": {
        "id": "fsPFpNaH5tl9"
      }
    },
    {
      "cell_type": "code",
      "source": [
        "searches['log_n_searches'] = np.log1p(searches['n_searches'])\n",
        "searches['log_n_nights'] = np.log1p(searches['n_nights'])\n",
        "searches['log_n_guests_min'] = np.log1p(searches['n_guests_min'])\n",
        "searches['log_n_guests_max'] = np.log1p(searches['n_guests_max'])\n",
        "searches['log_filter_price_min'] = np.log1p(searches['filter_price_min'])\n",
        "searches['log_filter_price_max'] = np.log1p(searches['filter_price_max'])"
      ],
      "metadata": {
        "id": "ejUaOWJW5s9U"
      },
      "execution_count": null,
      "outputs": []
    },
    {
      "cell_type": "markdown",
      "source": [
        "#Distributions"
      ],
      "metadata": {
        "id": "rNJ_xRWn671U"
      }
    },
    {
      "cell_type": "code",
      "source": [
        "sns.displot(searches, x = 'n_guests_min', color = 'brown')\n",
        "sns.displot(searches, x = 'n_guests_max', color = 'black')\n",
        "plt.show()\n"
      ],
      "metadata": {
        "colab": {
          "base_uri": "https://localhost:8080/",
          "height": 995
        },
        "id": "tJYFoHY765aa",
        "outputId": "9e3c8b2c-f96d-478a-d4af-584bbba5f7c9"
      },
      "execution_count": null,
      "outputs": [
        {
          "output_type": "display_data",
          "data": {
            "text/plain": [
              "<Figure size 500x500 with 1 Axes>"
            ],
            "image/png": "[encoded data removed]"
          },
          "metadata": {}
        },
        {
          "output_type": "display_data",
          "data": {
            "text/plain": [
              "<Figure size 500x500 with 1 Axes>"
            ],
            "image/png": "[encoded data removed]"
          },
          "metadata": {}
        }
      ]
    },
    {
      "cell_type": "markdown",
      "source": [
        "**OBSERVATION:**\n",
        "- Similar distributions with 1 being the most popular option and 2 being the next popular option."
      ],
      "metadata": {
        "id": "nX85P_2Y7D5h"
      }
    },
    {
      "cell_type": "code",
      "source": [
        "#When were searches conducted\n",
        "\n",
        "ax = sns.displot(searches, x = 'ds', color = 'brown')\n",
        "[plt.setp(ax.get_xticklabels(), rotation=90) for ax in ax.axes.flat]"
      ],
      "metadata": {
        "colab": {
          "base_uri": "https://localhost:8080/",
          "height": 816
        },
        "id": "J84Mer2K7ROH",
        "outputId": "325b325f-f4fd-46da-c0fb-b48dc03ef9e0"
      },
      "execution_count": null,
      "outputs": [
        {
          "output_type": "execute_result",
          "data": {
            "text/plain": [
              "[[None,\n",
              "  None,\n",
              "  None,\n",
              "  None,\n",
              "  None,\n",
              "  None,\n",
              "  None,\n",
              "  None,\n",
              "  None,\n",
              "  None,\n",
              "  None,\n",
              "  None,\n",
              "  None,\n",
              "  None]]"
            ]
          },
          "metadata": {},
          "execution_count": 23
        },
        {
          "output_type": "display_data",
          "data": {
            "text/plain": [
              "<Figure size 500x500 with 1 Axes>"
            ],
            "image/png": "[encoded data removed]"
          },
          "metadata": {}
        }
      ]
    },
    {
      "cell_type": "markdown",
      "source": [
        "OBSERVATION:\n",
        "- Noticed all date searches were between October 1st to October 14th. No major variation in when search was conducted between these dates"
      ],
      "metadata": {
        "id": "sSwc7K2Z7Xad"
      }
    },
    {
      "cell_type": "code",
      "source": [
        "#Percentage of dataset with a filter_price_max above 600\n",
        "\n",
        "print(len(searches[searches['filter_price_max'] > 600])/len(searches['filter_price_max'])*100, '%')"
      ],
      "metadata": {
        "colab": {
          "base_uri": "https://localhost:8080/"
        },
        "id": "LaG1IqC-7bkn",
        "outputId": "de8a26bb-008f-479f-c946-75bf49a8dafe"
      },
      "execution_count": null,
      "outputs": [
        {
          "output_type": "stream",
          "name": "stdout",
          "text": [
            "5.311022189887232 %\n"
          ]
        }
      ]
    },
    {
      "cell_type": "code",
      "source": [
        "#Distribution of filter_price_max of searches\n",
        "\n",
        "#Removing the set upper limit\n",
        "searches_maxprice_removed = searches[searches['filter_price_max'] <= 600]\n",
        "\n",
        "#Distribution plot of filter_price_max column\n",
        "sns.displot(x=searches_maxprice_removed[\"filter_price_max\"], color = 'blue')\n",
        "plt.show()"
      ],
      "metadata": {
        "colab": {
          "base_uri": "https://localhost:8080/",
          "height": 507
        },
        "id": "NxqlzznN7lbH",
        "outputId": "8c79de3b-792f-490b-fbbf-034f4e7969b2"
      },
      "execution_count": null,
      "outputs": [
        {
          "output_type": "display_data",
          "data": {
            "text/plain": [
              "<Figure size 500x500 with 1 Axes>"
            ],
            "image/png": "[encoded data removed]"
          },
          "metadata": {}
        }
      ]
    },
    {
      "cell_type": "markdown",
      "source": [
        "- Filter_price_max was chosen instead of filter_price_min due to the min usually being set at $0\n",
        "\n",
        "- To further help better visualize the trend we set the filter price max as less or equal to 600. 600 was chosen as the limit since only 14.25% of the dataset has values greater than 600"
      ],
      "metadata": {
        "id": "W9ysSZCg7uV_"
      }
    },
    {
      "cell_type": "code",
      "source": [
        "#Distribution of length_preperation of searches\n",
        "\n",
        "#Percentage of dataset beyond 100 days\n",
        "distribution = searches[\"length_preperation\"] / np.timedelta64(1, 'D')\n",
        "print(len(distribution[distribution > 100])/len(distribution)*100, '% \\n')\n",
        "\n",
        "#Remove values beyond 100 days\n",
        "distribution = distribution[distribution < 100]\n",
        "\n",
        "#Distribution plot of length_preperation column\n",
        "sns.displot(x=distribution, color = 'green')\n",
        "plt.show()"
      ],
      "metadata": {
        "colab": {
          "base_uri": "https://localhost:8080/",
          "height": 541
        },
        "id": "3wpiPvoP79GW",
        "outputId": "b0a0a37c-579a-4fc8-e9fb-453c8d7ae0de"
      },
      "execution_count": null,
      "outputs": [
        {
          "output_type": "stream",
          "name": "stdout",
          "text": [
            "9.396423874415872 % \n",
            "\n"
          ]
        },
        {
          "output_type": "display_data",
          "data": {
            "text/plain": [
              "<Figure size 500x500 with 1 Axes>"
            ],
            "image/png": "[encoded data removed]"
          },
          "metadata": {}
        }
      ]
    },
    {
      "cell_type": "code",
      "source": [
        "#Distribution of n_nights of searches\n",
        "\n",
        "#Percentage of dataset beyond 20 nights\n",
        "print(len(searches[searches['n_nights'] > 20])/len(searches['n_nights'])*100, '% \\n')\n",
        "\n",
        "#Remove n_nights beyond 20 days\n",
        "searches_within_twenty = searches[searches['n_nights'] < 20]\n",
        "\n",
        "#Distribution plot of length_preperation column\n",
        "sns.displot(searches_within_twenty, x='n_nights', color = 'red')\n",
        "plt.show()"
      ],
      "metadata": {
        "colab": {
          "base_uri": "https://localhost:8080/",
          "height": 541
        },
        "id": "5X9YjUg57-OI",
        "outputId": "66f38820-2a51-4a27-c240-c8581a0e131f"
      },
      "execution_count": null,
      "outputs": [
        {
          "output_type": "stream",
          "name": "stdout",
          "text": [
            "4.737387021854101 % \n",
            "\n"
          ]
        },
        {
          "output_type": "display_data",
          "data": {
            "text/plain": [
              "<Figure size 500x500 with 1 Axes>"
            ],
            "image/png": "[encoded data removed]"
          },
          "metadata": {}
        }
      ]
    },
    {
      "cell_type": "markdown",
      "source": [
        "Removing n_nights beyond 20 days since only 7.3% of the dataset exists beyond 20 days."
      ],
      "metadata": {
        "id": "orfEuUxi8KqN"
      }
    },
    {
      "cell_type": "code",
      "source": [
        "#Distribution of months of ds_checkin of searches\n",
        "\n",
        "checkin_month = pd.DatetimeIndex(searches['ds_checkin']).month\n",
        "\n",
        "#Distribution plot of length_preperation column\n",
        "sns.displot(checkin_month, color = 'yellow')\n",
        "plt.show()\n"
      ],
      "metadata": {
        "colab": {
          "base_uri": "https://localhost:8080/",
          "height": 506
        },
        "id": "Vh-pSxLx8J4d",
        "outputId": "59a3281c-0a0b-44b5-9a4a-7be06beb5138"
      },
      "execution_count": null,
      "outputs": [
        {
          "output_type": "display_data",
          "data": {
            "text/plain": [
              "<Figure size 500x500 with 1 Axes>"
            ],
            "image/png": "[encoded data removed]"
          },
          "metadata": {}
        }
      ]
    },
    {
      "cell_type": "markdown",
      "source": [
        "Used only the check-in month, cause checkout is usually within 5/6 days. The mean of n_nights after removing the upper outlier limit is 5.6, so assumed 5 or 6 days after the check-in date people usually checkout"
      ],
      "metadata": {
        "id": "4_-uYBVv8RQ5"
      }
    },
    {
      "cell_type": "code",
      "source": [
        "searches['filter_room_types'].unique()[0:15] #Display first 15 unique values"
      ],
      "metadata": {
        "colab": {
          "base_uri": "https://localhost:8080/"
        },
        "id": "u3E-WdXx8Tc1",
        "outputId": "faa807b1-4091-4813-b449-f0ff2aa16886"
      },
      "execution_count": null,
      "outputs": [
        {
          "output_type": "execute_result",
          "data": {
            "text/plain": [
              "array([',Entire home/apt,Entire home/apt,Private room,Private room', nan,\n",
              "       ',Entire home/apt',\n",
              "       'Entire home/apt,Entire home/apt,Private room,Private room',\n",
              "       'Entire home/apt', ',Shared room,Private room',\n",
              "       'Entire home/apt,Private room,Shared room,Private room,Shared room',\n",
              "       'Private room', 'Entire home/apt,Private room', ',Private room',\n",
              "       ',Entire home/apt,Private room',\n",
              "       ',Entire home/apt,Private room,Private room',\n",
              "       'Entire home/apt,Private room,Shared room',\n",
              "       ',Entire home/apt,Entire home/apt,Private room',\n",
              "       ',Entire home/apt,Entire home/apt,Shared room,Shared room'],\n",
              "      dtype=object)"
            ]
          },
          "metadata": {},
          "execution_count": 29
        }
      ]
    },
    {
      "cell_type": "code",
      "source": [
        "def count_room_types(data, room_types):\n",
        "    # Initialize a dictionary to hold counts for each room type\n",
        "    room_type_counts = {room_type: 0 for room_type in room_types}\n",
        "\n",
        "    # Iterate over each entry in the column\n",
        "    for entry in data.dropna():  # Skip missing values\n",
        "        # Normalize the entry to handle variations like capitalization\n",
        "        normalized_entry = entry.lower()\n",
        "        # Count occurrences of each room type\n",
        "        for room_type in room_types:\n",
        "            if room_type.lower() in normalized_entry:\n",
        "                room_type_counts[room_type] += normalized_entry.count(room_type.lower())\n",
        "\n",
        "    return room_type_counts\n",
        "\n"
      ],
      "metadata": {
        "id": "W7aemdKSFP-n"
      },
      "execution_count": null,
      "outputs": []
    },
    {
      "cell_type": "code",
      "source": [
        "recognized_room_types = ['Entire home', 'Private Room', 'Hotel Room', 'Shared Room']\n",
        "\n",
        "# Apply the function to count occurrences of each room type\n",
        "room_type_occurrences = count_room_types(searches['filter_room_types'], recognized_room_types)\n",
        "\n",
        "print(room_type_occurrences)\n"
      ],
      "metadata": {
        "colab": {
          "base_uri": "https://localhost:8080/"
        },
        "id": "SYxQnzKPFQ2F",
        "outputId": "aea32295-1fa3-41ab-c7a5-7ccfd5c10113"
      },
      "execution_count": null,
      "outputs": [
        {
          "output_type": "stream",
          "name": "stdout",
          "text": [
            "{'Entire home': 12963, 'Private Room': 5964, 'Hotel Room': 0, 'Shared Room': 949}\n"
          ]
        }
      ]
    },
    {
      "cell_type": "code",
      "source": [
        "searches['filter_room_types'].unique()[0:15]"
      ],
      "metadata": {
        "colab": {
          "base_uri": "https://localhost:8080/"
        },
        "id": "Qrz4Z2TtFTRz",
        "outputId": "b1b40b84-1b19-4793-e9bb-8eeeda0c220d"
      },
      "execution_count": null,
      "outputs": [
        {
          "output_type": "execute_result",
          "data": {
            "text/plain": [
              "array(['Private room,Entire home/apt', nan, 'Entire home/apt',\n",
              "       'Private room,Shared room',\n",
              "       'Private room,Entire home/apt,Shared room', 'Private room',\n",
              "       'Entire home/apt,Shared room', 'Shared room'], dtype=object)"
            ]
          },
          "metadata": {},
          "execution_count": 38
        }
      ]
    },
    {
      "cell_type": "code",
      "source": [
        "room_types = list(room_type_occurrences.keys())\n",
        "# Occurrences (y-axis)\n",
        "occurrences = list(room_type_occurrences.values())\n",
        "\n",
        "# Creating the bar chart\n",
        "plt.figure(figsize=(10, 6))  # Adjust the figure size as necessary\n",
        "plt.bar(room_types, occurrences, color='skyblue')\n",
        "\n",
        "plt.title('Occurrences of Airbnb Room Types')\n",
        "plt.xlabel('Room Type')\n",
        "plt.ylabel('Occurrences')\n",
        "plt.xticks(rotation=45)  # Rotate the x-axis labels for better readability\n",
        "\n",
        "# Display the plot\n",
        "plt.tight_layout()  # Adjust the layout to make room for the rotated x-axis labels\n",
        "plt.show()"
      ],
      "metadata": {
        "colab": {
          "base_uri": "https://localhost:8080/",
          "height": 607
        },
        "id": "pmAXe7tTGiVv",
        "outputId": "0500c684-49c1-48d5-f10d-413d0266c30f"
      },
      "execution_count": null,
      "outputs": [
        {
          "output_type": "display_data",
          "data": {
            "text/plain": [
              "<Figure size 1000x600 with 1 Axes>"
            ],
            "image/png": "[encoded data removed]"
          },
          "metadata": {}
        }
      ]
    },
    {
      "cell_type": "markdown",
      "source": [
        "Find top 15 countries where searches originate from\n",
        "\n",
        "Group by origin country and finding the count of each country"
      ],
      "metadata": {
        "id": "_XAcbBw9Gm8y"
      }
    },
    {
      "cell_type": "code",
      "source": [
        "search_origin = searches.groupby(\"origin_country\").agg({'origin_country' : 'count'})\n",
        "search_origin.columns = ['count']\n",
        "\n",
        "search_origin = search_origin.sort_values('count', ascending = False) #Sort count in descending order\n",
        "search_origin.nlargest(15, 'count') #Find the 15 largest values"
      ],
      "metadata": {
        "colab": {
          "base_uri": "https://localhost:8080/",
          "height": 551
        },
        "id": "d_YsQUogGmMm",
        "outputId": "b290a140-17cc-4188-b662-2b228bb8136b"
      },
      "execution_count": null,
      "outputs": [
        {
          "output_type": "execute_result",
          "data": {
            "text/plain": [
              "                count\n",
              "origin_country       \n",
              "IE               6608\n",
              "US               5811\n",
              "GB               4832\n",
              "FR               3444\n",
              "IT               2333\n",
              "DE               2170\n",
              "ES               1759\n",
              "CA               1085\n",
              "AU                962\n",
              "NL                843\n",
              "BR                636\n",
              "CH                535\n",
              "BE                386\n",
              "AT                320\n",
              "RU                274"
            ],
            "text/html": [
              "\n",
              "  <div id=\"df-778fd7e3-161a-4259-a69f-cc6df065588e\" class=\"colab-df-container\">\n",
              "    <div>\n",
              "<style scoped>\n",
              "    .dataframe tbody tr th:only-of-type {\n",
              "        vertical-align: middle;\n",
              "    }\n",
              "\n",
              "    .dataframe tbody tr th {\n",
              "        vertical-align: top;\n",
              "    }\n",
              "\n",
              "    .dataframe thead th {\n",
              "        text-align: right;\n",
              "    }\n",
              "</style>\n",
              "<table border=\"1\" class=\"dataframe\">\n",
              "  <thead>\n",
              "    <tr style=\"text-align: right;\">\n",
              "      <th></th>\n",
              "      <th>count</th>\n",
              "    </tr>\n",
              "    <tr>\n",
              "      <th>origin_country</th>\n",
              "      <th></th>\n",
              "    </tr>\n",
              "  </thead>\n",
              "  <tbody>\n",
              "    <tr>\n",
              "      <th>IE</th>\n",
              "      <td>6608</td>\n",
              "    </tr>\n",
              "    <tr>\n",
              "      <th>US</th>\n",
              "      <td>5811</td>\n",
              "    </tr>\n",
              "    <tr>\n",
              "      <th>GB</th>\n",
              "      <td>4832</td>\n",
              "    </tr>\n",
              "    <tr>\n",
              "      <th>FR</th>\n",
              "      <td>3444</td>\n",
              "    </tr>\n",
              "    <tr>\n",
              "      <th>IT</th>\n",
              "      <td>2333</td>\n",
              "    </tr>\n",
              "    <tr>\n",
              "      <th>DE</th>\n",
              "      <td>2170</td>\n",
              "    </tr>\n",
              "    <tr>\n",
              "      <th>ES</th>\n",
              "      <td>1759</td>\n",
              "    </tr>\n",
              "    <tr>\n",
              "      <th>CA</th>\n",
              "      <td>1085</td>\n",
              "    </tr>\n",
              "    <tr>\n",
              "      <th>AU</th>\n",
              "      <td>962</td>\n",
              "    </tr>\n",
              "    <tr>\n",
              "      <th>NL</th>\n",
              "      <td>843</td>\n",
              "    </tr>\n",
              "    <tr>\n",
              "      <th>BR</th>\n",
              "      <td>636</td>\n",
              "    </tr>\n",
              "    <tr>\n",
              "      <th>CH</th>\n",
              "      <td>535</td>\n",
              "    </tr>\n",
              "    <tr>\n",
              "      <th>BE</th>\n",
              "      <td>386</td>\n",
              "    </tr>\n",
              "    <tr>\n",
              "      <th>AT</th>\n",
              "      <td>320</td>\n",
              "    </tr>\n",
              "    <tr>\n",
              "      <th>RU</th>\n",
              "      <td>274</td>\n",
              "    </tr>\n",
              "  </tbody>\n",
              "</table>\n",
              "</div>\n",
              "    <div class=\"colab-df-buttons\">\n",
              "\n",
              "  <div class=\"colab-df-container\">\n",
              "    <button class=\"colab-df-convert\" onclick=\"convertToInteractive('df-778fd7e3-161a-4259-a69f-cc6df065588e')\"\n",
              "            title=\"Convert this dataframe to an interactive table.\"\n",
              "            style=\"display:none;\">\n",
              "\n",
              "  <svg xmlns=\"http://www.w3.org/2000/svg\" height=\"24px\" viewBox=\"0 -960 960 960\">\n",
              "    <path d=\"M120-120v-720h720v720H120Zm60-500h600v-160H180v160Zm220 220h160v-160H400v160Zm0 220h160v-160H400v160ZM180-400h160v-160H180v160Zm440 0h160v-160H620v160ZM180-180h160v-160H180v160Zm440 0h160v-160H620v160Z\"/>\n",
              "  </svg>\n",
              "    </button>\n",
              "\n",
              "  <style>\n",
              "    .colab-df-container {\n",
              "      display:flex;\n",
              "      gap: 12px;\n",
              "    }\n",
              "\n",
              "    .colab-df-convert {\n",
              "      background-color: #E8F0FE;\n",
              "      border: none;\n",
              "      border-radius: 50%;\n",
              "      cursor: pointer;\n",
              "      display: none;\n",
              "      fill: #1967D2;\n",
              "      height: 32px;\n",
              "      padding: 0 0 0 0;\n",
              "      width: 32px;\n",
              "    }\n",
              "\n",
              "    .colab-df-convert:hover {\n",
              "      background-color: #E2EBFA;\n",
              "      box-shadow: 0px 1px 2px rgba(60, 64, 67, 0.3), 0px 1px 3px 1px rgba(60, 64, 67, 0.15);\n",
              "      fill: #174EA6;\n",
              "    }\n",
              "\n",
              "    .colab-df-buttons div {\n",
              "      margin-bottom: 4px;\n",
              "    }\n",
              "\n",
              "    [theme=dark] .colab-df-convert {\n",
              "      background-color: #3B4455;\n",
              "      fill: #D2E3FC;\n",
              "    }\n",
              "\n",
              "    [theme=dark] .colab-df-convert:hover {\n",
              "      background-color: #434B5C;\n",
              "      box-shadow: 0px 1px 3px 1px rgba(0, 0, 0, 0.15);\n",
              "      filter: drop-shadow(0px 1px 2px rgba(0, 0, 0, 0.3));\n",
              "      fill: #FFFFFF;\n",
              "    }\n",
              "  </style>\n",
              "\n",
              "    <script>\n",
              "      const buttonEl =\n",
              "        document.querySelector('#df-778fd7e3-161a-4259-a69f-cc6df065588e button.colab-df-convert');\n",
              "      buttonEl.style.display =\n",
              "        google.colab.kernel.accessAllowed ? 'block' : 'none';\n",
              "\n",
              "      async function convertToInteractive(key) {\n",
              "        const element = document.querySelector('#df-778fd7e3-161a-4259-a69f-cc6df065588e');\n",
              "        const dataTable =\n",
              "          await google.colab.kernel.invokeFunction('convertToInteractive',\n",
              "                                                    [key], {});\n",
              "        if (!dataTable) return;\n",
              "\n",
              "        const docLinkHtml = 'Like what you see? Visit the ' +\n",
              "          '<a target=\"_blank\" href=https://colab.research.google.com/notebooks/data_table.ipynb>data table notebook</a>'\n",
              "          + ' to learn more about interactive tables.';\n",
              "        element.innerHTML = '';\n",
              "        dataTable['output_type'] = 'display_data';\n",
              "        await google.colab.output.renderOutput(dataTable, element);\n",
              "        const docLink = document.createElement('div');\n",
              "        docLink.innerHTML = docLinkHtml;\n",
              "        element.appendChild(docLink);\n",
              "      }\n",
              "    </script>\n",
              "  </div>\n",
              "\n",
              "\n",
              "<div id=\"df-4a6426f2-772b-4afc-ac75-9c1819cc9e23\">\n",
              "  <button class=\"colab-df-quickchart\" onclick=\"quickchart('df-4a6426f2-772b-4afc-ac75-9c1819cc9e23')\"\n",
              "            title=\"Suggest charts\"\n",
              "            style=\"display:none;\">\n",
              "\n",
              "<svg xmlns=\"http://www.w3.org/2000/svg\" height=\"24px\"viewBox=\"0 0 24 24\"\n",
              "     width=\"24px\">\n",
              "    <g>\n",
              "        <path d=\"M19 3H5c-1.1 0-2 .9-2 2v14c0 1.1.9 2 2 2h14c1.1 0 2-.9 2-2V5c0-1.1-.9-2-2-2zM9 17H7v-7h2v7zm4 0h-2V7h2v10zm4 0h-2v-4h2v4z\"/>\n",
              "    </g>\n",
              "</svg>\n",
              "  </button>\n",
              "\n",
              "<style>\n",
              "  .colab-df-quickchart {\n",
              "      --bg-color: #E8F0FE;\n",
              "      --fill-color: #1967D2;\n",
              "      --hover-bg-color: #E2EBFA;\n",
              "      --hover-fill-color: #174EA6;\n",
              "      --disabled-fill-color: #AAA;\n",
              "      --disabled-bg-color: #DDD;\n",
              "  }\n",
              "\n",
              "  [theme=dark] .colab-df-quickchart {\n",
              "      --bg-color: #3B4455;\n",
              "      --fill-color: #D2E3FC;\n",
              "      --hover-bg-color: #434B5C;\n",
              "      --hover-fill-color: #FFFFFF;\n",
              "      --disabled-bg-color: #3B4455;\n",
              "      --disabled-fill-color: #666;\n",
              "  }\n",
              "\n",
              "  .colab-df-quickchart {\n",
              "    background-color: var(--bg-color);\n",
              "    border: none;\n",
              "    border-radius: 50%;\n",
              "    cursor: pointer;\n",
              "    display: none;\n",
              "    fill: var(--fill-color);\n",
              "    height: 32px;\n",
              "    padding: 0;\n",
              "    width: 32px;\n",
              "  }\n",
              "\n",
              "  .colab-df-quickchart:hover {\n",
              "    background-color: var(--hover-bg-color);\n",
              "    box-shadow: 0 1px 2px rgba(60, 64, 67, 0.3), 0 1px 3px 1px rgba(60, 64, 67, 0.15);\n",
              "    fill: var(--button-hover-fill-color);\n",
              "  }\n",
              "\n",
              "  .colab-df-quickchart-complete:disabled,\n",
              "  .colab-df-quickchart-complete:disabled:hover {\n",
              "    background-color: var(--disabled-bg-color);\n",
              "    fill: var(--disabled-fill-color);\n",
              "    box-shadow: none;\n",
              "  }\n",
              "\n",
              "  .colab-df-spinner {\n",
              "    border: 2px solid var(--fill-color);\n",
              "    border-color: transparent;\n",
              "    border-bottom-color: var(--fill-color);\n",
              "    animation:\n",
              "      spin 1s steps(1) infinite;\n",
              "  }\n",
              "\n",
              "  @keyframes spin {\n",
              "    0% {\n",
              "      border-color: transparent;\n",
              "      border-bottom-color: var(--fill-color);\n",
              "      border-left-color: var(--fill-color);\n",
              "    }\n",
              "    20% {\n",
              "      border-color: transparent;\n",
              "      border-left-color: var(--fill-color);\n",
              "      border-top-color: var(--fill-color);\n",
              "    }\n",
              "    30% {\n",
              "      border-color: transparent;\n",
              "      border-left-color: var(--fill-color);\n",
              "      border-top-color: var(--fill-color);\n",
              "      border-right-color: var(--fill-color);\n",
              "    }\n",
              "    40% {\n",
              "      border-color: transparent;\n",
              "      border-right-color: var(--fill-color);\n",
              "      border-top-color: var(--fill-color);\n",
              "    }\n",
              "    60% {\n",
              "      border-color: transparent;\n",
              "      border-right-color: var(--fill-color);\n",
              "    }\n",
              "    80% {\n",
              "      border-color: transparent;\n",
              "      border-right-color: var(--fill-color);\n",
              "      border-bottom-color: var(--fill-color);\n",
              "    }\n",
              "    90% {\n",
              "      border-color: transparent;\n",
              "      border-bottom-color: var(--fill-color);\n",
              "    }\n",
              "  }\n",
              "</style>\n",
              "\n",
              "  <script>\n",
              "    async function quickchart(key) {\n",
              "      const quickchartButtonEl =\n",
              "        document.querySelector('#' + key + ' button');\n",
              "      quickchartButtonEl.disabled = true;  // To prevent multiple clicks.\n",
              "      quickchartButtonEl.classList.add('colab-df-spinner');\n",
              "      try {\n",
              "        const charts = await google.colab.kernel.invokeFunction(\n",
              "            'suggestCharts', [key], {});\n",
              "      } catch (error) {\n",
              "        console.error('Error during call to suggestCharts:', error);\n",
              "      }\n",
              "      quickchartButtonEl.classList.remove('colab-df-spinner');\n",
              "      quickchartButtonEl.classList.add('colab-df-quickchart-complete');\n",
              "    }\n",
              "    (() => {\n",
              "      let quickchartButtonEl =\n",
              "        document.querySelector('#df-4a6426f2-772b-4afc-ac75-9c1819cc9e23 button');\n",
              "      quickchartButtonEl.style.display =\n",
              "        google.colab.kernel.accessAllowed ? 'block' : 'none';\n",
              "    })();\n",
              "  </script>\n",
              "</div>\n",
              "    </div>\n",
              "  </div>\n"
            ],
            "application/vnd.google.colaboratory.intrinsic+json": {
              "type": "dataframe",
              "summary": "{\n  \"name\": \"search_origin\",\n  \"rows\": 15,\n  \"fields\": [\n    {\n      \"column\": \"origin_country\",\n      \"properties\": {\n        \"dtype\": \"string\",\n        \"num_unique_values\": 15,\n        \"samples\": [\n          \"NL\",\n          \"CH\",\n          \"IE\"\n        ],\n        \"semantic_type\": \"\",\n        \"description\": \"\"\n      }\n    },\n    {\n      \"column\": \"count\",\n      \"properties\": {\n        \"dtype\": \"number\",\n        \"std\": 2095,\n        \"min\": 274,\n        \"max\": 6608,\n        \"num_unique_values\": 15,\n        \"samples\": [\n          843,\n          535,\n          6608\n        ],\n        \"semantic_type\": \"\",\n        \"description\": \"\"\n      }\n    }\n  ]\n}"
            }
          },
          "metadata": {},
          "execution_count": 40
        }
      ]
    },
    {
      "cell_type": "markdown",
      "source": [
        "#Merge Datasets"
      ],
      "metadata": {
        "id": "Z7rlxaWCGy2T"
      }
    },
    {
      "cell_type": "code",
      "source": [
        "merged_datasets = contacts.merge(searches, left_on='id_guest', right_on='id_user')"
      ],
      "metadata": {
        "id": "uvr0Aqk0GyQg"
      },
      "execution_count": null,
      "outputs": []
    },
    {
      "cell_type": "code",
      "source": [
        "#Check difference between prices searched between accepted/rejected applicants\n",
        "\n",
        "merged_pricemax_filter = merged_datasets.loc[(merged_datasets['filter_price_max'] <= 600)]\n",
        "\n",
        "sns.displot(merged_pricemax_filter, x=\"filter_price_max\", hue=\"accepted\", multiple=\"dodge\")\n",
        "plt.show()"
      ],
      "metadata": {
        "colab": {
          "base_uri": "https://localhost:8080/",
          "height": 506
        },
        "id": "As-DPTAxG38B",
        "outputId": "266ba139-ea73-45aa-c26d-090e9d2fe8ac"
      },
      "execution_count": null,
      "outputs": [
        {
          "output_type": "display_data",
          "data": {
            "text/plain": [
              "<Figure size 584.875x500 with 1 Axes>"
            ],
            "image/png": "[encoded data removed]"
          },
          "metadata": {}
        }
      ]
    },
    {
      "cell_type": "markdown",
      "source": [
        "To further help better visualize the trend we set the filter price max as less or equal to 600. 600 was chosen as the limit since only 14.25% of the dataset has values greater than 600.\n",
        "\n",
        "As seen, more people are rejected compared than accepted with an average acceptance rate of 43%"
      ],
      "metadata": {
        "id": "88ZuZxi7G-YP"
      }
    },
    {
      "cell_type": "code",
      "source": [
        "#Classify dataset based on filter_price_max\n",
        "\n",
        "def label_price (row):\n",
        "    if (row['filter_price_max'] >= 0) & (row['filter_price_max'] < 100):\n",
        "        return '0-100'\n",
        "\n",
        "    elif (row['filter_price_max'] >= 100) & (row['filter_price_max'] < 200):\n",
        "        return '100-200'\n",
        "\n",
        "    elif (row['filter_price_max'] >= 200) & (row['filter_price_max'] < 300):\n",
        "        return '200-300'\n",
        "\n",
        "    elif (row['filter_price_max'] >= 300) & (row['filter_price_max'] < 400):\n",
        "        return '300-400'\n",
        "\n",
        "    elif (row['filter_price_max'] >= 400) & (row['filter_price_max'] < 500):\n",
        "        return '400-500'\n",
        "\n",
        "    elif (row['filter_price_max'] >= 500) & (row['filter_price_max'] < 600):\n",
        "        return '500-600'\n",
        "\n",
        "    else:\n",
        "        return '600+'\n",
        "\n",
        "merged_datasets['classification_max_price'] = merged_datasets.apply(lambda row: label_price(row), axis=1)\n",
        "\n",
        "merged_datasets.groupby('classification_max_price').agg({'accepted': 'mean'})"
      ],
      "metadata": {
        "colab": {
          "base_uri": "https://localhost:8080/",
          "height": 300
        },
        "id": "WF9Tdv1PG9GQ",
        "outputId": "eabec8c6-d818-4181-cdb3-6f378b81d55f"
      },
      "execution_count": null,
      "outputs": [
        {
          "output_type": "execute_result",
          "data": {
            "text/plain": [
              "                          accepted\n",
              "classification_max_price          \n",
              "0-100                     0.411160\n",
              "100-200                   0.430308\n",
              "200-300                   0.431149\n",
              "300-400                   0.450488\n",
              "400-500                   0.485549\n",
              "500-600                   0.422297\n",
              "600+                      0.433122"
            ],
            "text/html": [
              "\n",
              "  <div id=\"df-ef85d23b-8886-49f1-ab35-9d5c8b966d6e\" class=\"colab-df-container\">\n",
              "    <div>\n",
              "<style scoped>\n",
              "    .dataframe tbody tr th:only-of-type {\n",
              "        vertical-align: middle;\n",
              "    }\n",
              "\n",
              "    .dataframe tbody tr th {\n",
              "        vertical-align: top;\n",
              "    }\n",
              "\n",
              "    .dataframe thead th {\n",
              "        text-align: right;\n",
              "    }\n",
              "</style>\n",
              "<table border=\"1\" class=\"dataframe\">\n",
              "  <thead>\n",
              "    <tr style=\"text-align: right;\">\n",
              "      <th></th>\n",
              "      <th>accepted</th>\n",
              "    </tr>\n",
              "    <tr>\n",
              "      <th>classification_max_price</th>\n",
              "      <th></th>\n",
              "    </tr>\n",
              "  </thead>\n",
              "  <tbody>\n",
              "    <tr>\n",
              "      <th>0-100</th>\n",
              "      <td>0.411160</td>\n",
              "    </tr>\n",
              "    <tr>\n",
              "      <th>100-200</th>\n",
              "      <td>0.430308</td>\n",
              "    </tr>\n",
              "    <tr>\n",
              "      <th>200-300</th>\n",
              "      <td>0.431149</td>\n",
              "    </tr>\n",
              "    <tr>\n",
              "      <th>300-400</th>\n",
              "      <td>0.450488</td>\n",
              "    </tr>\n",
              "    <tr>\n",
              "      <th>400-500</th>\n",
              "      <td>0.485549</td>\n",
              "    </tr>\n",
              "    <tr>\n",
              "      <th>500-600</th>\n",
              "      <td>0.422297</td>\n",
              "    </tr>\n",
              "    <tr>\n",
              "      <th>600+</th>\n",
              "      <td>0.433122</td>\n",
              "    </tr>\n",
              "  </tbody>\n",
              "</table>\n",
              "</div>\n",
              "    <div class=\"colab-df-buttons\">\n",
              "\n",
              "  <div class=\"colab-df-container\">\n",
              "    <button class=\"colab-df-convert\" onclick=\"convertToInteractive('df-ef85d23b-8886-49f1-ab35-9d5c8b966d6e')\"\n",
              "            title=\"Convert this dataframe to an interactive table.\"\n",
              "            style=\"display:none;\">\n",
              "\n",
              "  <svg xmlns=\"http://www.w3.org/2000/svg\" height=\"24px\" viewBox=\"0 -960 960 960\">\n",
              "    <path d=\"M120-120v-720h720v720H120Zm60-500h600v-160H180v160Zm220 220h160v-160H400v160Zm0 220h160v-160H400v160ZM180-400h160v-160H180v160Zm440 0h160v-160H620v160ZM180-180h160v-160H180v160Zm440 0h160v-160H620v160Z\"/>\n",
              "  </svg>\n",
              "    </button>\n",
              "\n",
              "  <style>\n",
              "    .colab-df-container {\n",
              "      display:flex;\n",
              "      gap: 12px;\n",
              "    }\n",
              "\n",
              "    .colab-df-convert {\n",
              "      background-color: #E8F0FE;\n",
              "      border: none;\n",
              "      border-radius: 50%;\n",
              "      cursor: pointer;\n",
              "      display: none;\n",
              "      fill: #1967D2;\n",
              "      height: 32px;\n",
              "      padding: 0 0 0 0;\n",
              "      width: 32px;\n",
              "    }\n",
              "\n",
              "    .colab-df-convert:hover {\n",
              "      background-color: #E2EBFA;\n",
              "      box-shadow: 0px 1px 2px rgba(60, 64, 67, 0.3), 0px 1px 3px 1px rgba(60, 64, 67, 0.15);\n",
              "      fill: #174EA6;\n",
              "    }\n",
              "\n",
              "    .colab-df-buttons div {\n",
              "      margin-bottom: 4px;\n",
              "    }\n",
              "\n",
              "    [theme=dark] .colab-df-convert {\n",
              "      background-color: #3B4455;\n",
              "      fill: #D2E3FC;\n",
              "    }\n",
              "\n",
              "    [theme=dark] .colab-df-convert:hover {\n",
              "      background-color: #434B5C;\n",
              "      box-shadow: 0px 1px 3px 1px rgba(0, 0, 0, 0.15);\n",
              "      filter: drop-shadow(0px 1px 2px rgba(0, 0, 0, 0.3));\n",
              "      fill: #FFFFFF;\n",
              "    }\n",
              "  </style>\n",
              "\n",
              "    <script>\n",
              "      const buttonEl =\n",
              "        document.querySelector('#df-ef85d23b-8886-49f1-ab35-9d5c8b966d6e button.colab-df-convert');\n",
              "      buttonEl.style.display =\n",
              "        google.colab.kernel.accessAllowed ? 'block' : 'none';\n",
              "\n",
              "      async function convertToInteractive(key) {\n",
              "        const element = document.querySelector('#df-ef85d23b-8886-49f1-ab35-9d5c8b966d6e');\n",
              "        const dataTable =\n",
              "          await google.colab.kernel.invokeFunction('convertToInteractive',\n",
              "                                                    [key], {});\n",
              "        if (!dataTable) return;\n",
              "\n",
              "        const docLinkHtml = 'Like what you see? Visit the ' +\n",
              "          '<a target=\"_blank\" href=https://colab.research.google.com/notebooks/data_table.ipynb>data table notebook</a>'\n",
              "          + ' to learn more about interactive tables.';\n",
              "        element.innerHTML = '';\n",
              "        dataTable['output_type'] = 'display_data';\n",
              "        await google.colab.output.renderOutput(dataTable, element);\n",
              "        const docLink = document.createElement('div');\n",
              "        docLink.innerHTML = docLinkHtml;\n",
              "        element.appendChild(docLink);\n",
              "      }\n",
              "    </script>\n",
              "  </div>\n",
              "\n",
              "\n",
              "<div id=\"df-91ecb6b6-b07d-4ba1-9e0b-512721418998\">\n",
              "  <button class=\"colab-df-quickchart\" onclick=\"quickchart('df-91ecb6b6-b07d-4ba1-9e0b-512721418998')\"\n",
              "            title=\"Suggest charts\"\n",
              "            style=\"display:none;\">\n",
              "\n",
              "<svg xmlns=\"http://www.w3.org/2000/svg\" height=\"24px\"viewBox=\"0 0 24 24\"\n",
              "     width=\"24px\">\n",
              "    <g>\n",
              "        <path d=\"M19 3H5c-1.1 0-2 .9-2 2v14c0 1.1.9 2 2 2h14c1.1 0 2-.9 2-2V5c0-1.1-.9-2-2-2zM9 17H7v-7h2v7zm4 0h-2V7h2v10zm4 0h-2v-4h2v4z\"/>\n",
              "    </g>\n",
              "</svg>\n",
              "  </button>\n",
              "\n",
              "<style>\n",
              "  .colab-df-quickchart {\n",
              "      --bg-color: #E8F0FE;\n",
              "      --fill-color: #1967D2;\n",
              "      --hover-bg-color: #E2EBFA;\n",
              "      --hover-fill-color: #174EA6;\n",
              "      --disabled-fill-color: #AAA;\n",
              "      --disabled-bg-color: #DDD;\n",
              "  }\n",
              "\n",
              "  [theme=dark] .colab-df-quickchart {\n",
              "      --bg-color: #3B4455;\n",
              "      --fill-color: #D2E3FC;\n",
              "      --hover-bg-color: #434B5C;\n",
              "      --hover-fill-color: #FFFFFF;\n",
              "      --disabled-bg-color: #3B4455;\n",
              "      --disabled-fill-color: #666;\n",
              "  }\n",
              "\n",
              "  .colab-df-quickchart {\n",
              "    background-color: var(--bg-color);\n",
              "    border: none;\n",
              "    border-radius: 50%;\n",
              "    cursor: pointer;\n",
              "    display: none;\n",
              "    fill: var(--fill-color);\n",
              "    height: 32px;\n",
              "    padding: 0;\n",
              "    width: 32px;\n",
              "  }\n",
              "\n",
              "  .colab-df-quickchart:hover {\n",
              "    background-color: var(--hover-bg-color);\n",
              "    box-shadow: 0 1px 2px rgba(60, 64, 67, 0.3), 0 1px 3px 1px rgba(60, 64, 67, 0.15);\n",
              "    fill: var(--button-hover-fill-color);\n",
              "  }\n",
              "\n",
              "  .colab-df-quickchart-complete:disabled,\n",
              "  .colab-df-quickchart-complete:disabled:hover {\n",
              "    background-color: var(--disabled-bg-color);\n",
              "    fill: var(--disabled-fill-color);\n",
              "    box-shadow: none;\n",
              "  }\n",
              "\n",
              "  .colab-df-spinner {\n",
              "    border: 2px solid var(--fill-color);\n",
              "    border-color: transparent;\n",
              "    border-bottom-color: var(--fill-color);\n",
              "    animation:\n",
              "      spin 1s steps(1) infinite;\n",
              "  }\n",
              "\n",
              "  @keyframes spin {\n",
              "    0% {\n",
              "      border-color: transparent;\n",
              "      border-bottom-color: var(--fill-color);\n",
              "      border-left-color: var(--fill-color);\n",
              "    }\n",
              "    20% {\n",
              "      border-color: transparent;\n",
              "      border-left-color: var(--fill-color);\n",
              "      border-top-color: var(--fill-color);\n",
              "    }\n",
              "    30% {\n",
              "      border-color: transparent;\n",
              "      border-left-color: var(--fill-color);\n",
              "      border-top-color: var(--fill-color);\n",
              "      border-right-color: var(--fill-color);\n",
              "    }\n",
              "    40% {\n",
              "      border-color: transparent;\n",
              "      border-right-color: var(--fill-color);\n",
              "      border-top-color: var(--fill-color);\n",
              "    }\n",
              "    60% {\n",
              "      border-color: transparent;\n",
              "      border-right-color: var(--fill-color);\n",
              "    }\n",
              "    80% {\n",
              "      border-color: transparent;\n",
              "      border-right-color: var(--fill-color);\n",
              "      border-bottom-color: var(--fill-color);\n",
              "    }\n",
              "    90% {\n",
              "      border-color: transparent;\n",
              "      border-bottom-color: var(--fill-color);\n",
              "    }\n",
              "  }\n",
              "</style>\n",
              "\n",
              "  <script>\n",
              "    async function quickchart(key) {\n",
              "      const quickchartButtonEl =\n",
              "        document.querySelector('#' + key + ' button');\n",
              "      quickchartButtonEl.disabled = true;  // To prevent multiple clicks.\n",
              "      quickchartButtonEl.classList.add('colab-df-spinner');\n",
              "      try {\n",
              "        const charts = await google.colab.kernel.invokeFunction(\n",
              "            'suggestCharts', [key], {});\n",
              "      } catch (error) {\n",
              "        console.error('Error during call to suggestCharts:', error);\n",
              "      }\n",
              "      quickchartButtonEl.classList.remove('colab-df-spinner');\n",
              "      quickchartButtonEl.classList.add('colab-df-quickchart-complete');\n",
              "    }\n",
              "    (() => {\n",
              "      let quickchartButtonEl =\n",
              "        document.querySelector('#df-91ecb6b6-b07d-4ba1-9e0b-512721418998 button');\n",
              "      quickchartButtonEl.style.display =\n",
              "        google.colab.kernel.accessAllowed ? 'block' : 'none';\n",
              "    })();\n",
              "  </script>\n",
              "</div>\n",
              "    </div>\n",
              "  </div>\n"
            ],
            "application/vnd.google.colaboratory.intrinsic+json": {
              "type": "dataframe",
              "summary": "{\n  \"name\": \"merged_datasets\",\n  \"rows\": 7,\n  \"fields\": [\n    {\n      \"column\": \"classification_max_price\",\n      \"properties\": {\n        \"dtype\": \"string\",\n        \"num_unique_values\": 7,\n        \"samples\": [\n          \"0-100\",\n          \"100-200\",\n          \"500-600\"\n        ],\n        \"semantic_type\": \"\",\n        \"description\": \"\"\n      }\n    },\n    {\n      \"column\": \"accepted\",\n      \"properties\": {\n        \"dtype\": \"number\",\n        \"std\": 0.024197894767369842,\n        \"min\": 0.4111597790896972,\n        \"max\": 0.48554913294797686,\n        \"num_unique_values\": 7,\n        \"samples\": [\n          0.4111597790896972,\n          0.4303075396825397,\n          0.4222972972972973\n        ],\n        \"semantic_type\": \"\",\n        \"description\": \"\"\n      }\n    }\n  ]\n}"
            }
          },
          "metadata": {},
          "execution_count": 43
        }
      ]
    },
    {
      "cell_type": "markdown",
      "source": [
        "Based on this table, it can be seen that regardless of max_filter_price, people are rejected at similar rates"
      ],
      "metadata": {
        "id": "FccKwWGhHGbV"
      }
    },
    {
      "cell_type": "code",
      "source": [
        "dataset_country = merged_datasets[['origin_country', 'accepted']]\n",
        "\n",
        "#Find acceptance count by country and accepted\n",
        "accepted_count = dataset_country.groupby(['origin_country', 'accepted']).agg({'origin_country':'count'})\n",
        "accepted_count.columns = ['count_accepted']\n",
        "\n",
        "#Find acceptance count by country\n",
        "country_count = dataset_country.groupby(['origin_country']).agg({'origin_country':'count'})\n",
        "country_count.columns = ['count_country']\n",
        "\n",
        "#Merge datasets for easier manipulation\n",
        "acceptance_country = pd.merge(dataset_country, accepted_count,  how='left', on=['origin_country','accepted']) #Merge accepted count\n",
        "acceptance_country = acceptance_country.drop_duplicates()\n",
        "\n",
        "acceptance_country = pd.merge(acceptance_country, country_count, how='left', on=['origin_country']) #Merge total country count\n",
        "acceptance_country = acceptance_country.sort_values(['count_country', 'accepted'], ascending = [False, True])\n",
        "acceptance_country = acceptance_country[acceptance_country['count_country'] >= 100] #100 is used so there is a good amount of data to make assumptions\n",
        "acceptance_country = acceptance_country[acceptance_country['accepted'] == True]\n",
        "\n",
        "#Divide count_accepted column by count_country column to find acceptance rate by country\n",
        "acceptance_country['acceptance_rate'] = acceptance_country['count_accepted']/acceptance_country['count_country']\n",
        "acceptance_country.sort_values(['acceptance_rate'], ascending = True)"
      ],
      "metadata": {
        "colab": {
          "base_uri": "https://localhost:8080/",
          "height": 770
        },
        "id": "jjYsnr_yHE5u",
        "outputId": "4defec87-253b-4474-9bda-78d1b39f6082"
      },
      "execution_count": null,
      "outputs": [
        {
          "output_type": "execute_result",
          "data": {
            "text/plain": [
              "    origin_country  accepted  count_accepted  count_country  acceptance_rate\n",
              "73              IN      True             138            874         0.157895\n",
              "55              HR      True             159            530         0.300000\n",
              "72              AT      True              83            239         0.347280\n",
              "54              RU      True              83            239         0.347280\n",
              "11              IT      True            1183           3137         0.377112\n",
              "100             AE      True              59            154         0.383117\n",
              "0               CA      True             407            993         0.409869\n",
              "13              IE      True            1217           2951         0.412403\n",
              "24              ES      True             794           1914         0.414838\n",
              "49              RO      True              50            118         0.423729\n",
              "78              CR      True              82            188         0.436170\n",
              "6               GB      True            1610           3667         0.439051\n",
              "25              BE      True             134            304         0.440789\n",
              "38              BR      True             215            482         0.446058\n",
              "27              AU      True             268            590         0.454237\n",
              "17              FR      True            1526           3232         0.472153\n",
              "12              CH      True             279            585         0.476923\n",
              "7               US      True            2050           4298         0.476966\n",
              "14              DE      True             745           1535         0.485342\n",
              "31              NL      True             212            433         0.489607\n",
              "46              SG      True             115            232         0.495690\n",
              "65              PT      True             101            203         0.497537\n",
              "1               DK      True              86            125         0.688000"
            ],
            "text/html": [
              "\n",
              "  <div id=\"df-b864d339-9491-4ffa-adfb-102eb7c87e52\" class=\"colab-df-container\">\n",
              "    <div>\n",
              "<style scoped>\n",
              "    .dataframe tbody tr th:only-of-type {\n",
              "        vertical-align: middle;\n",
              "    }\n",
              "\n",
              "    .dataframe tbody tr th {\n",
              "        vertical-align: top;\n",
              "    }\n",
              "\n",
              "    .dataframe thead th {\n",
              "        text-align: right;\n",
              "    }\n",
              "</style>\n",
              "<table border=\"1\" class=\"dataframe\">\n",
              "  <thead>\n",
              "    <tr style=\"text-align: right;\">\n",
              "      <th></th>\n",
              "      <th>origin_country</th>\n",
              "      <th>accepted</th>\n",
              "      <th>count_accepted</th>\n",
              "      <th>count_country</th>\n",
              "      <th>acceptance_rate</th>\n",
              "    </tr>\n",
              "  </thead>\n",
              "  <tbody>\n",
              "    <tr>\n",
              "      <th>73</th>\n",
              "      <td>IN</td>\n",
              "      <td>True</td>\n",
              "      <td>138</td>\n",
              "      <td>874</td>\n",
              "      <td>0.157895</td>\n",
              "    </tr>\n",
              "    <tr>\n",
              "      <th>55</th>\n",
              "      <td>HR</td>\n",
              "      <td>True</td>\n",
              "      <td>159</td>\n",
              "      <td>530</td>\n",
              "      <td>0.300000</td>\n",
              "    </tr>\n",
              "    <tr>\n",
              "      <th>72</th>\n",
              "      <td>AT</td>\n",
              "      <td>True</td>\n",
              "      <td>83</td>\n",
              "      <td>239</td>\n",
              "      <td>0.347280</td>\n",
              "    </tr>\n",
              "    <tr>\n",
              "      <th>54</th>\n",
              "      <td>RU</td>\n",
              "      <td>True</td>\n",
              "      <td>83</td>\n",
              "      <td>239</td>\n",
              "      <td>0.347280</td>\n",
              "    </tr>\n",
              "    <tr>\n",
              "      <th>11</th>\n",
              "      <td>IT</td>\n",
              "      <td>True</td>\n",
              "      <td>1183</td>\n",
              "      <td>3137</td>\n",
              "      <td>0.377112</td>\n",
              "    </tr>\n",
              "    <tr>\n",
              "      <th>100</th>\n",
              "      <td>AE</td>\n",
              "      <td>True</td>\n",
              "      <td>59</td>\n",
              "      <td>154</td>\n",
              "      <td>0.383117</td>\n",
              "    </tr>\n",
              "    <tr>\n",
              "      <th>0</th>\n",
              "      <td>CA</td>\n",
              "      <td>True</td>\n",
              "      <td>407</td>\n",
              "      <td>993</td>\n",
              "      <td>0.409869</td>\n",
              "    </tr>\n",
              "    <tr>\n",
              "      <th>13</th>\n",
              "      <td>IE</td>\n",
              "      <td>True</td>\n",
              "      <td>1217</td>\n",
              "      <td>2951</td>\n",
              "      <td>0.412403</td>\n",
              "    </tr>\n",
              "    <tr>\n",
              "      <th>24</th>\n",
              "      <td>ES</td>\n",
              "      <td>True</td>\n",
              "      <td>794</td>\n",
              "      <td>1914</td>\n",
              "      <td>0.414838</td>\n",
              "    </tr>\n",
              "    <tr>\n",
              "      <th>49</th>\n",
              "      <td>RO</td>\n",
              "      <td>True</td>\n",
              "      <td>50</td>\n",
              "      <td>118</td>\n",
              "      <td>0.423729</td>\n",
              "    </tr>\n",
              "    <tr>\n",
              "      <th>78</th>\n",
              "      <td>CR</td>\n",
              "      <td>True</td>\n",
              "      <td>82</td>\n",
              "      <td>188</td>\n",
              "      <td>0.436170</td>\n",
              "    </tr>\n",
              "    <tr>\n",
              "      <th>6</th>\n",
              "      <td>GB</td>\n",
              "      <td>True</td>\n",
              "      <td>1610</td>\n",
              "      <td>3667</td>\n",
              "      <td>0.439051</td>\n",
              "    </tr>\n",
              "    <tr>\n",
              "      <th>25</th>\n",
              "      <td>BE</td>\n",
              "      <td>True</td>\n",
              "      <td>134</td>\n",
              "      <td>304</td>\n",
              "      <td>0.440789</td>\n",
              "    </tr>\n",
              "    <tr>\n",
              "      <th>38</th>\n",
              "      <td>BR</td>\n",
              "      <td>True</td>\n",
              "      <td>215</td>\n",
              "      <td>482</td>\n",
              "      <td>0.446058</td>\n",
              "    </tr>\n",
              "    <tr>\n",
              "      <th>27</th>\n",
              "      <td>AU</td>\n",
              "      <td>True</td>\n",
              "      <td>268</td>\n",
              "      <td>590</td>\n",
              "      <td>0.454237</td>\n",
              "    </tr>\n",
              "    <tr>\n",
              "      <th>17</th>\n",
              "      <td>FR</td>\n",
              "      <td>True</td>\n",
              "      <td>1526</td>\n",
              "      <td>3232</td>\n",
              "      <td>0.472153</td>\n",
              "    </tr>\n",
              "    <tr>\n",
              "      <th>12</th>\n",
              "      <td>CH</td>\n",
              "      <td>True</td>\n",
              "      <td>279</td>\n",
              "      <td>585</td>\n",
              "      <td>0.476923</td>\n",
              "    </tr>\n",
              "    <tr>\n",
              "      <th>7</th>\n",
              "      <td>US</td>\n",
              "      <td>True</td>\n",
              "      <td>2050</td>\n",
              "      <td>4298</td>\n",
              "      <td>0.476966</td>\n",
              "    </tr>\n",
              "    <tr>\n",
              "      <th>14</th>\n",
              "      <td>DE</td>\n",
              "      <td>True</td>\n",
              "      <td>745</td>\n",
              "      <td>1535</td>\n",
              "      <td>0.485342</td>\n",
              "    </tr>\n",
              "    <tr>\n",
              "      <th>31</th>\n",
              "      <td>NL</td>\n",
              "      <td>True</td>\n",
              "      <td>212</td>\n",
              "      <td>433</td>\n",
              "      <td>0.489607</td>\n",
              "    </tr>\n",
              "    <tr>\n",
              "      <th>46</th>\n",
              "      <td>SG</td>\n",
              "      <td>True</td>\n",
              "      <td>115</td>\n",
              "      <td>232</td>\n",
              "      <td>0.495690</td>\n",
              "    </tr>\n",
              "    <tr>\n",
              "      <th>65</th>\n",
              "      <td>PT</td>\n",
              "      <td>True</td>\n",
              "      <td>101</td>\n",
              "      <td>203</td>\n",
              "      <td>0.497537</td>\n",
              "    </tr>\n",
              "    <tr>\n",
              "      <th>1</th>\n",
              "      <td>DK</td>\n",
              "      <td>True</td>\n",
              "      <td>86</td>\n",
              "      <td>125</td>\n",
              "      <td>0.688000</td>\n",
              "    </tr>\n",
              "  </tbody>\n",
              "</table>\n",
              "</div>\n",
              "    <div class=\"colab-df-buttons\">\n",
              "\n",
              "  <div class=\"colab-df-container\">\n",
              "    <button class=\"colab-df-convert\" onclick=\"convertToInteractive('df-b864d339-9491-4ffa-adfb-102eb7c87e52')\"\n",
              "            title=\"Convert this dataframe to an interactive table.\"\n",
              "            style=\"display:none;\">\n",
              "\n",
              "  <svg xmlns=\"http://www.w3.org/2000/svg\" height=\"24px\" viewBox=\"0 -960 960 960\">\n",
              "    <path d=\"M120-120v-720h720v720H120Zm60-500h600v-160H180v160Zm220 220h160v-160H400v160Zm0 220h160v-160H400v160ZM180-400h160v-160H180v160Zm440 0h160v-160H620v160ZM180-180h160v-160H180v160Zm440 0h160v-160H620v160Z\"/>\n",
              "  </svg>\n",
              "    </button>\n",
              "\n",
              "  <style>\n",
              "    .colab-df-container {\n",
              "      display:flex;\n",
              "      gap: 12px;\n",
              "    }\n",
              "\n",
              "    .colab-df-convert {\n",
              "      background-color: #E8F0FE;\n",
              "      border: none;\n",
              "      border-radius: 50%;\n",
              "      cursor: pointer;\n",
              "      display: none;\n",
              "      fill: #1967D2;\n",
              "      height: 32px;\n",
              "      padding: 0 0 0 0;\n",
              "      width: 32px;\n",
              "    }\n",
              "\n",
              "    .colab-df-convert:hover {\n",
              "      background-color: #E2EBFA;\n",
              "      box-shadow: 0px 1px 2px rgba(60, 64, 67, 0.3), 0px 1px 3px 1px rgba(60, 64, 67, 0.15);\n",
              "      fill: #174EA6;\n",
              "    }\n",
              "\n",
              "    .colab-df-buttons div {\n",
              "      margin-bottom: 4px;\n",
              "    }\n",
              "\n",
              "    [theme=dark] .colab-df-convert {\n",
              "      background-color: #3B4455;\n",
              "      fill: #D2E3FC;\n",
              "    }\n",
              "\n",
              "    [theme=dark] .colab-df-convert:hover {\n",
              "      background-color: #434B5C;\n",
              "      box-shadow: 0px 1px 3px 1px rgba(0, 0, 0, 0.15);\n",
              "      filter: drop-shadow(0px 1px 2px rgba(0, 0, 0, 0.3));\n",
              "      fill: #FFFFFF;\n",
              "    }\n",
              "  </style>\n",
              "\n",
              "    <script>\n",
              "      const buttonEl =\n",
              "        document.querySelector('#df-b864d339-9491-4ffa-adfb-102eb7c87e52 button.colab-df-convert');\n",
              "      buttonEl.style.display =\n",
              "        google.colab.kernel.accessAllowed ? 'block' : 'none';\n",
              "\n",
              "      async function convertToInteractive(key) {\n",
              "        const element = document.querySelector('#df-b864d339-9491-4ffa-adfb-102eb7c87e52');\n",
              "        const dataTable =\n",
              "          await google.colab.kernel.invokeFunction('convertToInteractive',\n",
              "                                                    [key], {});\n",
              "        if (!dataTable) return;\n",
              "\n",
              "        const docLinkHtml = 'Like what you see? Visit the ' +\n",
              "          '<a target=\"_blank\" href=https://colab.research.google.com/notebooks/data_table.ipynb>data table notebook</a>'\n",
              "          + ' to learn more about interactive tables.';\n",
              "        element.innerHTML = '';\n",
              "        dataTable['output_type'] = 'display_data';\n",
              "        await google.colab.output.renderOutput(dataTable, element);\n",
              "        const docLink = document.createElement('div');\n",
              "        docLink.innerHTML = docLinkHtml;\n",
              "        element.appendChild(docLink);\n",
              "      }\n",
              "    </script>\n",
              "  </div>\n",
              "\n",
              "\n",
              "<div id=\"df-d863f024-a89a-48fe-a88c-d0ad88778c43\">\n",
              "  <button class=\"colab-df-quickchart\" onclick=\"quickchart('df-d863f024-a89a-48fe-a88c-d0ad88778c43')\"\n",
              "            title=\"Suggest charts\"\n",
              "            style=\"display:none;\">\n",
              "\n",
              "<svg xmlns=\"http://www.w3.org/2000/svg\" height=\"24px\"viewBox=\"0 0 24 24\"\n",
              "     width=\"24px\">\n",
              "    <g>\n",
              "        <path d=\"M19 3H5c-1.1 0-2 .9-2 2v14c0 1.1.9 2 2 2h14c1.1 0 2-.9 2-2V5c0-1.1-.9-2-2-2zM9 17H7v-7h2v7zm4 0h-2V7h2v10zm4 0h-2v-4h2v4z\"/>\n",
              "    </g>\n",
              "</svg>\n",
              "  </button>\n",
              "\n",
              "<style>\n",
              "  .colab-df-quickchart {\n",
              "      --bg-color: #E8F0FE;\n",
              "      --fill-color: #1967D2;\n",
              "      --hover-bg-color: #E2EBFA;\n",
              "      --hover-fill-color: #174EA6;\n",
              "      --disabled-fill-color: #AAA;\n",
              "      --disabled-bg-color: #DDD;\n",
              "  }\n",
              "\n",
              "  [theme=dark] .colab-df-quickchart {\n",
              "      --bg-color: #3B4455;\n",
              "      --fill-color: #D2E3FC;\n",
              "      --hover-bg-color: #434B5C;\n",
              "      --hover-fill-color: #FFFFFF;\n",
              "      --disabled-bg-color: #3B4455;\n",
              "      --disabled-fill-color: #666;\n",
              "  }\n",
              "\n",
              "  .colab-df-quickchart {\n",
              "    background-color: var(--bg-color);\n",
              "    border: none;\n",
              "    border-radius: 50%;\n",
              "    cursor: pointer;\n",
              "    display: none;\n",
              "    fill: var(--fill-color);\n",
              "    height: 32px;\n",
              "    padding: 0;\n",
              "    width: 32px;\n",
              "  }\n",
              "\n",
              "  .colab-df-quickchart:hover {\n",
              "    background-color: var(--hover-bg-color);\n",
              "    box-shadow: 0 1px 2px rgba(60, 64, 67, 0.3), 0 1px 3px 1px rgba(60, 64, 67, 0.15);\n",
              "    fill: var(--button-hover-fill-color);\n",
              "  }\n",
              "\n",
              "  .colab-df-quickchart-complete:disabled,\n",
              "  .colab-df-quickchart-complete:disabled:hover {\n",
              "    background-color: var(--disabled-bg-color);\n",
              "    fill: var(--disabled-fill-color);\n",
              "    box-shadow: none;\n",
              "  }\n",
              "\n",
              "  .colab-df-spinner {\n",
              "    border: 2px solid var(--fill-color);\n",
              "    border-color: transparent;\n",
              "    border-bottom-color: var(--fill-color);\n",
              "    animation:\n",
              "      spin 1s steps(1) infinite;\n",
              "  }\n",
              "\n",
              "  @keyframes spin {\n",
              "    0% {\n",
              "      border-color: transparent;\n",
              "      border-bottom-color: var(--fill-color);\n",
              "      border-left-color: var(--fill-color);\n",
              "    }\n",
              "    20% {\n",
              "      border-color: transparent;\n",
              "      border-left-color: var(--fill-color);\n",
              "      border-top-color: var(--fill-color);\n",
              "    }\n",
              "    30% {\n",
              "      border-color: transparent;\n",
              "      border-left-color: var(--fill-color);\n",
              "      border-top-color: var(--fill-color);\n",
              "      border-right-color: var(--fill-color);\n",
              "    }\n",
              "    40% {\n",
              "      border-color: transparent;\n",
              "      border-right-color: var(--fill-color);\n",
              "      border-top-color: var(--fill-color);\n",
              "    }\n",
              "    60% {\n",
              "      border-color: transparent;\n",
              "      border-right-color: var(--fill-color);\n",
              "    }\n",
              "    80% {\n",
              "      border-color: transparent;\n",
              "      border-right-color: var(--fill-color);\n",
              "      border-bottom-color: var(--fill-color);\n",
              "    }\n",
              "    90% {\n",
              "      border-color: transparent;\n",
              "      border-bottom-color: var(--fill-color);\n",
              "    }\n",
              "  }\n",
              "</style>\n",
              "\n",
              "  <script>\n",
              "    async function quickchart(key) {\n",
              "      const quickchartButtonEl =\n",
              "        document.querySelector('#' + key + ' button');\n",
              "      quickchartButtonEl.disabled = true;  // To prevent multiple clicks.\n",
              "      quickchartButtonEl.classList.add('colab-df-spinner');\n",
              "      try {\n",
              "        const charts = await google.colab.kernel.invokeFunction(\n",
              "            'suggestCharts', [key], {});\n",
              "      } catch (error) {\n",
              "        console.error('Error during call to suggestCharts:', error);\n",
              "      }\n",
              "      quickchartButtonEl.classList.remove('colab-df-spinner');\n",
              "      quickchartButtonEl.classList.add('colab-df-quickchart-complete');\n",
              "    }\n",
              "    (() => {\n",
              "      let quickchartButtonEl =\n",
              "        document.querySelector('#df-d863f024-a89a-48fe-a88c-d0ad88778c43 button');\n",
              "      quickchartButtonEl.style.display =\n",
              "        google.colab.kernel.accessAllowed ? 'block' : 'none';\n",
              "    })();\n",
              "  </script>\n",
              "</div>\n",
              "    </div>\n",
              "  </div>\n"
            ],
            "application/vnd.google.colaboratory.intrinsic+json": {
              "type": "dataframe",
              "summary": "{\n  \"name\": \"acceptance_country\",\n  \"rows\": 23,\n  \"fields\": [\n    {\n      \"column\": \"origin_country\",\n      \"properties\": {\n        \"dtype\": \"string\",\n        \"num_unique_values\": 23,\n        \"samples\": [\n          \"FR\",\n          \"RO\",\n          \"IN\"\n        ],\n        \"semantic_type\": \"\",\n        \"description\": \"\"\n      }\n    },\n    {\n      \"column\": \"accepted\",\n      \"properties\": {\n        \"dtype\": \"boolean\",\n        \"num_unique_values\": 1,\n        \"samples\": [\n          true\n        ],\n        \"semantic_type\": \"\",\n        \"description\": \"\"\n      }\n    },\n    {\n      \"column\": \"count_accepted\",\n      \"properties\": {\n        \"dtype\": \"number\",\n        \"std\": 598,\n        \"min\": 50,\n        \"max\": 2050,\n        \"num_unique_values\": 22,\n        \"samples\": [\n          138\n        ],\n        \"semantic_type\": \"\",\n        \"description\": \"\"\n      }\n    },\n    {\n      \"column\": \"count_country\",\n      \"properties\": {\n        \"dtype\": \"number\",\n        \"std\": 1326,\n        \"min\": 118,\n        \"max\": 4298,\n        \"num_unique_values\": 22,\n        \"samples\": [\n          874\n        ],\n        \"semantic_type\": \"\",\n        \"description\": \"\"\n      }\n    },\n    {\n      \"column\": \"acceptance_rate\",\n      \"properties\": {\n        \"dtype\": \"number\",\n        \"std\": 0.09532576280617128,\n        \"min\": 0.15789473684210525,\n        \"max\": 0.688,\n        \"num_unique_values\": 22,\n        \"samples\": [\n          0.15789473684210525\n        ],\n        \"semantic_type\": \"\",\n        \"description\": \"\"\n      }\n    }\n  ]\n}"
            }
          },
          "metadata": {},
          "execution_count": 44
        }
      ]
    },
    {
      "cell_type": "code",
      "source": [
        "merged_datasets.dtypes"
      ],
      "metadata": {
        "colab": {
          "base_uri": "https://localhost:8080/"
        },
        "id": "UkZNZMGXHLgW",
        "outputId": "2c3c3f16-bd1e-445d-a098-c624f71a1f0f"
      },
      "execution_count": null,
      "outputs": [
        {
          "output_type": "execute_result",
          "data": {
            "text/plain": [
              "id_guest                             object\n",
              "id_host                              object\n",
              "id_listing                           object\n",
              "ts_contact_at                datetime64[ns]\n",
              "ts_reply_at                  datetime64[ns]\n",
              "ts_accepted_at               datetime64[ns]\n",
              "ts_booking_at                datetime64[ns]\n",
              "ds_checkin_x                 datetime64[ns]\n",
              "ds_checkout_x                datetime64[ns]\n",
              "n_guests                              int64\n",
              "n_messages                            int64\n",
              "accepted                               bool\n",
              "length_stay                 timedelta64[ns]\n",
              "n_guests_transformed                float64\n",
              "n_messages_transformed              float64\n",
              "month_checkin                         int64\n",
              "ds                           datetime64[ns]\n",
              "id_user                              object\n",
              "ds_checkin_y                 datetime64[ns]\n",
              "ds_checkout_y                datetime64[ns]\n",
              "n_searches                            int64\n",
              "n_nights                            float64\n",
              "n_guests_min                          int64\n",
              "n_guests_max                          int64\n",
              "origin_country                       object\n",
              "filter_price_min                    float64\n",
              "filter_price_max                    float64\n",
              "filter_room_types                    object\n",
              "length_preperation          timedelta64[ns]\n",
              "log_n_searches                      float64\n",
              "log_n_nights                        float64\n",
              "log_n_guests_min                    float64\n",
              "log_n_guests_max                    float64\n",
              "log_filter_price_min                float64\n",
              "log_filter_price_max                float64\n",
              "classification_max_price             object\n",
              "dtype: object"
            ]
          },
          "metadata": {},
          "execution_count": 45
        }
      ]
    },
    {
      "cell_type": "code",
      "source": [
        "merged_datasets['month_checkin'] = merged_datasets['ds_checkin_x'].dt.month\n",
        "merged_datasets['weekday_checkin'] =merged_datasets['ds_checkin_x'].dt.weekday"
      ],
      "metadata": {
        "id": "07nMT7YlJKAN"
      },
      "execution_count": null,
      "outputs": []
    },
    {
      "cell_type": "code",
      "source": [
        "df_holidays = pd.read_csv('fcal_Dublin_2023.csv', encoding='ISO-8859-1')\n",
        "\n",
        "# Parsing 'Date' column in day.month.year format\n",
        "df_holidays['Date'] = pd.to_datetime(df_holidays['Date'], format='%d.%m.%Y')\n",
        "\n",
        "# To display the DataFrame and check if it was read correctly\n",
        "print(df_holidays.head())"
      ],
      "metadata": {
        "colab": {
          "base_uri": "https://localhost:8080/"
        },
        "id": "-XDY4nLVKTig",
        "outputId": "334823aa-1380-4486-b0b3-ed8559a59604"
      },
      "execution_count": 51,
      "outputs": [
        {
          "output_type": "stream",
          "name": "stdout",
          "text": [
            "        Date        Designation Day of the week Calendar week\n",
            "0 2023-01-01     New Year´s Day             Sun       week 52\n",
            "1 2023-03-17  St. Patrick's Day             Fri       week 11\n",
            "2 2023-03-26          DST start             Sun       week 12\n",
            "3 2023-04-07        Good Friday             Fri       week 14\n",
            "4 2023-04-09             Easter             Sun       week 14\n"
          ]
        }
      ]
    },
    {
      "cell_type": "code",
      "source": [
        "holiday_dates = set(df_holidays['Date'])\n",
        "\n",
        "# Function to check if a date is a holiday\n",
        "def is_holiday(check_in_date):\n",
        "    return 1 if check_in_date in holiday_dates else 0\n",
        "\n",
        "# Apply the function to create a new binary column 'is_holiday'\n",
        "merged_datasets['is_holiday'] = merged_datasets['ds_checkin'].apply(is_holiday)"
      ],
      "metadata": {
        "id": "So-d0LWiLK_L"
      },
      "execution_count": 54,
      "outputs": []
    },
    {
      "cell_type": "code",
      "source": [
        "merged_datasets.dtypes"
      ],
      "metadata": {
        "colab": {
          "base_uri": "https://localhost:8080/"
        },
        "id": "bc--1rwpL28t",
        "outputId": "126c156b-3a99-4b6e-9206-a01fb52b4184"
      },
      "execution_count": 58,
      "outputs": [
        {
          "output_type": "execute_result",
          "data": {
            "text/plain": [
              "id_guest                             object\n",
              "id_host                              object\n",
              "id_listing                           object\n",
              "ts_contact_at                datetime64[ns]\n",
              "ts_reply_at                  datetime64[ns]\n",
              "ts_accepted_at               datetime64[ns]\n",
              "ts_booking_at                datetime64[ns]\n",
              "ds_checkin_x                 datetime64[ns]\n",
              "ds_checkout_x                datetime64[ns]\n",
              "n_guests                              int64\n",
              "n_messages                            int64\n",
              "accepted                               bool\n",
              "length_stay                 timedelta64[ns]\n",
              "n_guests_transformed                float64\n",
              "n_messages_transformed              float64\n",
              "month_checkin                         int64\n",
              "ds                           datetime64[ns]\n",
              "id_user                              object\n",
              "ds_checkin_y                 datetime64[ns]\n",
              "ds_checkout_y                datetime64[ns]\n",
              "n_searches                            int64\n",
              "n_nights                            float64\n",
              "n_guests_min                          int64\n",
              "n_guests_max                          int64\n",
              "origin_country                       object\n",
              "filter_price_min                    float64\n",
              "filter_price_max                    float64\n",
              "filter_room_types                    object\n",
              "length_preperation          timedelta64[ns]\n",
              "log_n_searches                      float64\n",
              "log_n_nights                        float64\n",
              "log_n_guests_min                    float64\n",
              "log_n_guests_max                    float64\n",
              "log_filter_price_min                float64\n",
              "log_filter_price_max                float64\n",
              "classification_max_price             object\n",
              "weekday_checkin                       int64\n",
              "is_holiday                            int64\n",
              "n_searches_lag1                     float64\n",
              "n_searches_7day_avg                 float64\n",
              "dtype: object"
            ]
          },
          "metadata": {},
          "execution_count": 58
        }
      ]
    },
    {
      "cell_type": "code",
      "source": [
        "merged_datasets['booking_date'] = pd.to_datetime(merged_datasets['ts_booking_at']).dt.date\n",
        "booking_counts = merged_datasets.groupby('booking_date').size().rename('n_bookings')"
      ],
      "metadata": {
        "id": "HxQpeproR8XT"
      },
      "execution_count": 71,
      "outputs": []
    },
    {
      "cell_type": "code",
      "source": [
        "monthly_bookings = merged_datasets.groupby(merged_datasets['ts_booking_at'].dt.to_period('M'))['id_listing'].count()\n",
        "\n",
        "# Convert the PeriodIndex to DateTimeIndex (the first day of each month)\n",
        "monthly_bookings.index = monthly_bookings.index.to_timestamp()"
      ],
      "metadata": {
        "id": "XiFD-tXPTXmF"
      },
      "execution_count": 101,
      "outputs": []
    },
    {
      "cell_type": "code",
      "source": [
        "booking_counts.index.max(),booking_counts.index.min()"
      ],
      "metadata": {
        "colab": {
          "base_uri": "https://localhost:8080/"
        },
        "id": "BQNKXAoBYip9",
        "outputId": "711eb138-d99f-4049-a612-c01fa06b9251"
      },
      "execution_count": 110,
      "outputs": [
        {
          "output_type": "execute_result",
          "data": {
            "text/plain": [
              "(Timestamp('2015-01-21 00:00:00', freq='D'),\n",
              " Timestamp('2014-05-21 00:00:00', freq='D'))"
            ]
          },
          "metadata": {},
          "execution_count": 110
        }
      ]
    },
    {
      "cell_type": "code",
      "source": [
        "split_date = booking_counts.index.max() - pd.Timedelta(days=60)\n",
        "train = booking_counts.loc[booking_counts.index <= split_date]\n",
        "test = booking_counts.loc[booking_counts.index > split_date]"
      ],
      "metadata": {
        "id": "WIIqydKvSPh5"
      },
      "execution_count": 80,
      "outputs": []
    },
    {
      "cell_type": "code",
      "source": [
        "train"
      ],
      "metadata": {
        "colab": {
          "base_uri": "https://localhost:8080/"
        },
        "id": "Wm8kQaYzSQaH",
        "outputId": "5ac01edd-0f54-4cb7-ecd0-6ae6e257fddf"
      },
      "execution_count": 89,
      "outputs": [
        {
          "output_type": "execute_result",
          "data": {
            "text/plain": [
              "2014-05-21    2\n",
              "2014-05-22    0\n",
              "2014-05-23    0\n",
              "2014-05-24    0\n",
              "2014-05-25    0\n",
              "             ..\n",
              "2014-11-18    4\n",
              "2014-11-19    2\n",
              "2014-11-20    6\n",
              "2014-11-21    6\n",
              "2014-11-22    0\n",
              "Freq: D, Name: n_bookings, Length: 186, dtype: int64"
            ]
          },
          "metadata": {},
          "execution_count": 89
        }
      ]
    },
    {
      "cell_type": "code",
      "source": [
        "test"
      ],
      "metadata": {
        "colab": {
          "base_uri": "https://localhost:8080/"
        },
        "id": "MWTLQgJWSQ8n",
        "outputId": "240d8b54-f286-4da0-8a83-916a9dac56a8"
      },
      "execution_count": 82,
      "outputs": [
        {
          "output_type": "execute_result",
          "data": {
            "text/plain": [
              "2014-11-23     5\n",
              "2014-11-24     4\n",
              "2014-11-25     7\n",
              "2014-11-26     2\n",
              "2014-11-27     4\n",
              "2014-11-28     2\n",
              "2014-11-29     5\n",
              "2014-11-30     9\n",
              "2014-12-01    10\n",
              "2014-12-02     0\n",
              "2014-12-03     1\n",
              "2014-12-04     4\n",
              "2014-12-05     2\n",
              "2014-12-06     1\n",
              "2014-12-07     3\n",
              "2014-12-08     3\n",
              "2014-12-09     8\n",
              "2014-12-10     2\n",
              "2014-12-11     2\n",
              "2014-12-12     0\n",
              "2014-12-13     0\n",
              "2014-12-14     0\n",
              "2014-12-15     1\n",
              "2014-12-16     2\n",
              "2014-12-17     0\n",
              "2014-12-18     1\n",
              "2014-12-19     5\n",
              "2014-12-20     0\n",
              "2014-12-21     4\n",
              "2014-12-22     8\n",
              "2014-12-23     0\n",
              "2014-12-24     0\n",
              "2014-12-25     0\n",
              "2014-12-26    13\n",
              "2014-12-27     0\n",
              "2014-12-28     0\n",
              "2014-12-29     3\n",
              "2014-12-30     0\n",
              "2014-12-31     4\n",
              "2015-01-01     2\n",
              "2015-01-02     0\n",
              "2015-01-03     8\n",
              "2015-01-04     0\n",
              "2015-01-05    16\n",
              "2015-01-06     0\n",
              "2015-01-07     5\n",
              "2015-01-08     0\n",
              "2015-01-09     2\n",
              "2015-01-10     2\n",
              "2015-01-11     0\n",
              "2015-01-12     0\n",
              "2015-01-13     3\n",
              "2015-01-14     2\n",
              "2015-01-15     8\n",
              "2015-01-16     3\n",
              "2015-01-17     0\n",
              "2015-01-18     1\n",
              "2015-01-19     0\n",
              "2015-01-20     4\n",
              "2015-01-21     2\n",
              "Freq: D, Name: n_bookings, dtype: int64"
            ]
          },
          "metadata": {},
          "execution_count": 82
        }
      ]
    },
    {
      "cell_type": "code",
      "source": [
        "from statsmodels.tsa.arima.model import ARIMA\n",
        "\n",
        "# Initialize and fit the ARIMA model (you may need to adjust the order parameters)\n",
        "arima_model = ARIMA(train, order=(1, 1, 1), seasonal_order=(1,1,1,12))\n",
        "arima_results = arima_model.fit()"
      ],
      "metadata": {
        "id": "cka42nrSSSGw"
      },
      "execution_count": 106,
      "outputs": []
    },
    {
      "cell_type": "code",
      "source": [
        "forecast = arima_results.get_forecast(steps=len(test))\n",
        "forecast_mean = forecast.predicted_mean"
      ],
      "metadata": {
        "id": "yjxhpwRgSXip"
      },
      "execution_count": 107,
      "outputs": []
    },
    {
      "cell_type": "code",
      "source": [
        "from sklearn.metrics import mean_squared_error\n",
        "\n",
        "mse = mean_squared_error(test, forecast_mean)\n",
        "rmse = mse ** 0.5\n",
        "print(f'The Root Mean Squared Error of our forecasts is {rmse}')"
      ],
      "metadata": {
        "colab": {
          "base_uri": "https://localhost:8080/"
        },
        "id": "08u8e42OSZ8S",
        "outputId": "d8090afa-a2c8-4ef3-8a7b-67949a787e79"
      },
      "execution_count": 108,
      "outputs": [
        {
          "output_type": "stream",
          "name": "stdout",
          "text": [
            "The Root Mean Squared Error of our forecasts is 9.102045525101481\n"
          ]
        }
      ]
    },
    {
      "cell_type": "code",
      "source": [
        "# After fitting your SARIMA model, you can access the residuals and conduct diagnostics\n",
        "residuals = arima_results.resid\n",
        "\n",
        "# Plot ACF and PACF for the residuals\n",
        "from statsmodels.graphics.tsaplots import plot_acf, plot_pacf\n",
        "plot_acf(residuals)\n",
        "plot_pacf(residuals)\n",
        "plt.show()\n",
        "\n",
        "# Run a statistical test to check for normality in residuals\n",
        "from scipy import stats\n",
        "print(stats.jarque_bera(residuals))\n"
      ],
      "metadata": {
        "colab": {
          "base_uri": "https://localhost:8080/",
          "height": 904
        },
        "id": "LaJKBGszUpyx",
        "outputId": "1b2e06e0-47ea-48f7-e62c-02928538b63f"
      },
      "execution_count": 98,
      "outputs": [
        {
          "output_type": "display_data",
          "data": {
            "text/plain": [
              "<Figure size 640x480 with 1 Axes>"
            ],
            "image/png": "[encoded data removed]"
          },
          "metadata": {}
        },
        {
          "output_type": "display_data",
          "data": {
            "text/plain": [
              "<Figure size 640x480 with 1 Axes>"
            ],
            "image/png": "[encoded data removed]"
          },
          "metadata": {}
        },
        {
          "output_type": "stream",
          "name": "stdout",
          "text": [
            "SignificanceResult(statistic=14530.793580057025, pvalue=0.0)\n"
          ]
        }
      ]
    },
    {
      "cell_type": "code",
      "source": [
        "train.dtypes"
      ],
      "metadata": {
        "colab": {
          "base_uri": "https://localhost:8080/"
        },
        "id": "7HSIgCvPTeAR",
        "outputId": "e963def2-1d52-4d4c-fc52-f23d7f8efcf0"
      },
      "execution_count": 88,
      "outputs": [
        {
          "output_type": "execute_result",
          "data": {
            "text/plain": [
              "dtype('int64')"
            ]
          },
          "metadata": {},
          "execution_count": 88
        }
      ]
    },
    {
      "cell_type": "code",
      "source": [
        "from statsmodels.tsa.statespace.sarimax import SARIMAX\n",
        "\n",
        "\n",
        "# SARIMA model with p, d, q as non-seasonal parameters and P, D, Q, s as seasonal parameters\n",
        "sarima_model = SARIMAX(train,\n",
        "                       order=(1, 1, 1),\n",
        "                       seasonal_order=(1, 1, 1, 7),\n",
        "                       enforce_stationarity=False,\n",
        "                       enforce_invertibility=False)\n",
        "\n",
        "sarima_results = sarima_model.fit()\n",
        "\n",
        "# Print out the summary results of the fit\n",
        "print(sarima_results.summary())"
      ],
      "metadata": {
        "colab": {
          "base_uri": "https://localhost:8080/"
        },
        "id": "lBS_xoWjTYUL",
        "outputId": "aec3437e-8f60-4762-e2cd-328dc9a4558c"
      },
      "execution_count": 95,
      "outputs": [
        {
          "output_type": "stream",
          "name": "stdout",
          "text": [
            "                                     SARIMAX Results                                     \n",
            "=========================================================================================\n",
            "Dep. Variable:                        n_bookings   No. Observations:                  186\n",
            "Model:             SARIMAX(1, 1, 1)x(1, 1, 1, 7)   Log Likelihood                -842.795\n",
            "Date:                           Fri, 15 Mar 2024   AIC                           1695.590\n",
            "Time:                                   22:52:08   BIC                           1711.239\n",
            "Sample:                               05-21-2014   HQIC                          1701.940\n",
            "                                    - 11-22-2014                                         \n",
            "Covariance Type:                             opg                                         \n",
            "==============================================================================\n",
            "                 coef    std err          z      P>|z|      [0.025      0.975]\n",
            "------------------------------------------------------------------------------\n",
            "ar.L1         -0.0427      0.278     -0.154      0.878      -0.587       0.501\n",
            "ma.L1          0.3009      0.266      1.130      0.259      -0.221       0.823\n",
            "ar.S.L7       -0.0026      0.052     -0.050      0.960      -0.104       0.099\n",
            "ma.S.L7       -1.0000      0.037    -26.901      0.000      -1.073      -0.927\n",
            "sigma2      1131.9797   3.28e-05   3.45e+07      0.000    1131.980    1131.980\n",
            "===================================================================================\n",
            "Ljung-Box (L1) (Q):                   0.00   Jarque-Bera (JB):             12904.61\n",
            "Prob(Q):                              0.96   Prob(JB):                         0.00\n",
            "Heteroskedasticity (H):           11677.89   Skew:                            -3.37\n",
            "Prob(H) (two-sided):                  0.00   Kurtosis:                        45.28\n",
            "===================================================================================\n",
            "\n",
            "Warnings:\n",
            "[1] Covariance matrix calculated using the outer product of gradients (complex-step).\n",
            "[2] Covariance matrix is singular or near-singular, with condition number 2.84e+23. Standard errors may be unstable.\n"
          ]
        }
      ]
    },
    {
      "cell_type": "code",
      "source": [
        "# Forecast the next 30 days (or the length of your test set)\n",
        "forecast = sarima_results.get_forecast(steps=len(test))\n",
        "forecast_mean = forecast.predicted_mean\n",
        "\n",
        "# Calculate RMSE\n",
        "mse = mean_squared_error(test, forecast_mean)\n",
        "rmse = np.sqrt(mse)\n",
        "print(f'The Root Mean Squared Error of our forecasts is {rmse}')\n"
      ],
      "metadata": {
        "colab": {
          "base_uri": "https://localhost:8080/"
        },
        "id": "i6q45iC0T4Ex",
        "outputId": "f426c3f2-d7b8-4875-d780-1f4e71a7093a"
      },
      "execution_count": 96,
      "outputs": [
        {
          "output_type": "stream",
          "name": "stdout",
          "text": [
            "The Root Mean Squared Error of our forecasts is 6.907121320514905\n"
          ]
        }
      ]
    }
  ]
}